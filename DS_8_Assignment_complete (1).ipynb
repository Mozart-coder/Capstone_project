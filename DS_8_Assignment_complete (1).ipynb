{
  "nbformat": 4,
  "nbformat_minor": 0,
  "metadata": {
    "kernelspec": {
      "display_name": "Python 3",
      "language": "python",
      "name": "python3"
    },
    "language_info": {
      "codemirror_mode": {
        "name": "ipython",
        "version": 3
      },
      "file_extension": ".py",
      "mimetype": "text/x-python",
      "name": "python",
      "nbconvert_exporter": "python",
      "pygments_lexer": "ipython3",
      "version": "3.7.6"
    },
    "colab": {
      "name": "DS-8-Assignment_complete.ipynb",
      "provenance": [],
      "collapsed_sections": [
        "WypE8xlp4tkj",
        "dcq_d-dT4tkk",
        "r-9AcvzE4tkk",
        "1D7qQItb4tkl",
        "xVdAZq0i4tkp"
      ]
    }
  },
  "cells": [
    {
      "cell_type": "markdown",
      "metadata": {
        "button": false,
        "new_sheet": false,
        "run_control": {
          "read_only": false
        },
        "id": "3VO9GGVw4tkK"
      },
      "source": [
        "<center>\n",
        "    <img src=\"https://cf-courses-data.s3.us.cloud-object-storage.appdomain.cloud/IBMDeveloperSkillsNetwork-ML0101EN-SkillsNetwork/labs/Module%206/images/IDSNlogo.png\" width=\"300\" alt=\"cognitiveclass.ai logo\"  />\n",
        "</center>\n",
        "\n",
        "# Classification with Python\n",
        "\n",
        "Estimated time needed: **25** minutes\n",
        "\n",
        "## Objectives\n",
        "\n",
        "After completing this lab you will be able to:\n",
        "\n",
        "-   Confidently create classification models\n"
      ]
    },
    {
      "cell_type": "markdown",
      "metadata": {
        "button": false,
        "new_sheet": false,
        "run_control": {
          "read_only": false
        },
        "id": "YDoJW4mp4tkM"
      },
      "source": [
        "In this notebook we try to practice all the classification algorithms that we learned in this course.\n",
        "\n",
        "We load a dataset using Pandas library, and apply the following algorithms, and find the best one for this specific dataset by accuracy evaluation methods.\n",
        "\n",
        "Lets first load required libraries:\n"
      ]
    },
    {
      "cell_type": "code",
      "metadata": {
        "button": false,
        "new_sheet": false,
        "run_control": {
          "read_only": false
        },
        "id": "mhGK8Hqv4tkN"
      },
      "source": [
        "import itertools\n",
        "import numpy as np\n",
        "import matplotlib.pyplot as plt\n",
        "from matplotlib.ticker import NullFormatter\n",
        "import pandas as pd\n",
        "import numpy as np\n",
        "import matplotlib.ticker as ticker\n",
        "from sklearn import preprocessing\n",
        "%matplotlib inline"
      ],
      "execution_count": null,
      "outputs": []
    },
    {
      "cell_type": "markdown",
      "metadata": {
        "button": false,
        "new_sheet": false,
        "run_control": {
          "read_only": false
        },
        "id": "_ou21xJ74tkO"
      },
      "source": [
        "### About dataset\n"
      ]
    },
    {
      "cell_type": "markdown",
      "metadata": {
        "button": false,
        "new_sheet": false,
        "run_control": {
          "read_only": false
        },
        "id": "EDWHNaP14tkP"
      },
      "source": [
        "This dataset is about the performance of basketball teams. The **cbb.csv** data set includes performance data about five seasons of 354 basketball teams. It includes following fields:\n",
        "\n",
        "| Field      | Description                                                                                                                                                                                                                                                                                                                                                                                                                                                                                                                                                                                                                                                                                                                                                                                                                                                                    |\n",
        "| ---------- | ------------------------------------------------------------------------------------------------------------------------------------------------------------------------------------------------------------------------------------------------------------------------------------------------------------------------------------------------------------------------------------------------------------------------------------------------------------------------------------------------------------------------------------------------------------------------------------------------------------------------------------------------------------------------------------------------------------------------------------------------------------------------------------------------------------------------------------------------------------------------------ |\n",
        "| TEAM       | The Division I college basketball school                                                                                                                                                                                                                                                                                                                                                                                                                                                                                                                                                                                                                                                                                                                                                                                                                                       |\n",
        "| CONF       | The Athletic Conference in which the school participates in (A10 = Atlantic 10, ACC = Atlantic Coast Conference, AE = America East, Amer = American, ASun = ASUN, B10 = Big Ten, B12 = Big 12, BE = Big East, BSky = Big Sky, BSth = Big South, BW = Big West, CAA = Colonial Athletic Association, CUSA = Conference USA, Horz = Horizon League, Ivy = Ivy League, MAAC = Metro Atlantic Athletic Conference, MAC = Mid-American Conference, MEAC = Mid-Eastern Athletic Conference, MVC = Missouri Valley Conference, MWC = Mountain West, NEC = Northeast Conference, OVC = Ohio Valley Conference, P12 = Pac-12, Pat = Patriot League, SB = Sun Belt, SC = Southern Conference, SEC = South Eastern Conference, Slnd = Southland Conference, Sum = Summit League, SWAC = Southwestern Athletic Conference, WAC = Western Athletic Conference, WCC = West Coast Conference) |\n",
        "| G          | Number of games played                                                                                                                                                                                                                                                                                                                                                                                                                                                                                                                                                                                                                                                                                                                                                                                                                                                         |\n",
        "| W          | Number of games won                                                                                                                                                                                                                                                                                                                                                                                                                                                                                                                                                                                                                                                                                                                                                                                                                                                            |\n",
        "| ADJOE      | Adjusted Offensive Efficiency (An estimate of the offensive efficiency (points scored per 100 possessions) a team would have against the average Division I defense)                                                                                                                                                                                                                                                                                                                                                                                                                                                                                                                                                                                                                                                                                                           |\n",
        "| ADJDE      | Adjusted Defensive Efficiency (An estimate of the defensive efficiency (points allowed per 100 possessions) a team would have against the average Division I offense)                                                                                                                                                                                                                                                                                                                                                                                                                                                                                                                                                                                                                                                                                                          |\n",
        "| BARTHAG    | Power Rating (Chance of beating an average Division I team)                                                                                                                                                                                                                                                                                                                                                                                                                                                                                                                                                                                                                                                                                                                                                                                                                    |\n",
        "| EFG_O      | Effective Field Goal Percentage Shot                                                                                                                                                                                                                                                                                                                                                                                                                                                                                                                                                                                                                                                                                                                                                                                                                                           |\n",
        "| EFG_D      | Effective Field Goal Percentage Allowed                                                                                                                                                                                                                                                                                                                                                                                                                                                                                                                                                                                                                                                                                                                                                                                                                                        |\n",
        "| TOR        | Turnover Percentage Allowed (Turnover Rate)                                                                                                                                                                                                                                                                                                                                                                                                                                                                                                                                                                                                                                                                                                                                                                                                                                    |\n",
        "| TORD       | Turnover Percentage Committed (Steal Rate)                                                                                                                                                                                                                                                                                                                                                                                                                                                                                                                                                                                                                                                                                                                                                                                                                                     |\n",
        "| ORB        | Offensive Rebound Percentage                                                                                                                                                                                                                                                                                                                                                                                                                                                                                                                                                                                                                                                                                                                                                                                                                                                   |\n",
        "| DRB        | Defensive Rebound Percentage                                                                                                                                                                                                                                                                                                                                                                                                                                                                                                                                                                                                                                                                                                                                                                                                                                                   |\n",
        "| FTR        | Free Throw Rate (How often the given team shoots Free Throws)                                                                                                                                                                                                                                                                                                                                                                                                                                                                                                                                                                                                                                                                                                                                                                                                                  |\n",
        "| FTRD       | Free Throw Rate Allowed                                                                                                                                                                                                                                                                                                                                                                                                                                                                                                                                                                                                                                                                                                                                                                                                                                                        |\n",
        "| 2P_O       | Two-Point Shooting Percentage                                                                                                                                                                                                                                                                                                                                                                                                                                                                                                                                                                                                                                                                                                                                                                                                                                                  |\n",
        "| 2P_D       | Two-Point Shooting Percentage Allowed                                                                                                                                                                                                                                                                                                                                                                                                                                                                                                                                                                                                                                                                                                                                                                                                                                          |\n",
        "| 3P_O       | Three-Point Shooting Percentage                                                                                                                                                                                                                                                                                                                                                                                                                                                                                                                                                                                                                                                                                                                                                                                                                                                |\n",
        "| 3P_D       | Three-Point Shooting Percentage Allowed                                                                                                                                                                                                                                                                                                                                                                                                                                                                                                                                                                                                                                                                                                                                                                                                                                        |\n",
        "| ADJ_T      | Adjusted Tempo (An estimate of the tempo (possessions per 40 minutes) a team would have against the team that wants to play at an average Division I tempo)                                                                                                                                                                                                                                                                                                                                                                                                                                                                                                                                                                                                                                                                                                                    |\n",
        "| WAB        | Wins Above Bubble (The bubble refers to the cut off between making the NCAA March Madness Tournament and not making it)                                                                                                                                                                                                                                                                                                                                                                                                                                                                                                                                                                                                                                                                                                                                                        |\n",
        "| POSTSEASON | Round where the given team was eliminated or where their season ended (R68 = First Four, R64 = Round of 64, R32 = Round of 32, S16 = Sweet Sixteen, E8 = Elite Eight, F4 = Final Four, 2ND = Runner-up, Champion = Winner of the NCAA March Madness Tournament for that given year)                                                                                                                                                                                                                                                                                                                                                                                                                                                                                                                                                                                            |\n",
        "| SEED       | Seed in the NCAA March Madness Tournament                                                                                                                                                                                                                                                                                                                                                                                                                                                                                                                                                                                                                                                                                                                                                                                                                                      |\n",
        "| YEAR       | Season                                                                                                                                                                                                                                                                                                                                                                                                                                                                                                                                                                                                                                                                                                                                                                                                                                                                         |\n"
      ]
    },
    {
      "cell_type": "markdown",
      "metadata": {
        "button": false,
        "new_sheet": false,
        "run_control": {
          "read_only": false
        },
        "id": "Um3tmZIy4tkZ"
      },
      "source": [
        "### Load Data From CSV File\n"
      ]
    },
    {
      "cell_type": "markdown",
      "metadata": {
        "button": false,
        "new_sheet": false,
        "run_control": {
          "read_only": false
        },
        "id": "xmYHCjRt4tkb"
      },
      "source": [
        "Let's load the dataset [NB Need to provide link to csv file]\n"
      ]
    },
    {
      "cell_type": "code",
      "metadata": {
        "button": false,
        "new_sheet": false,
        "run_control": {
          "read_only": false
        },
        "colab": {
          "base_uri": "https://localhost:8080/",
          "height": 204
        },
        "id": "6beTl59t4tkb",
        "outputId": "7ec809c9-cb8a-4c41-8adb-14700564ee3e"
      },
      "source": [
        "df = pd.read_csv('https://cf-courses-data.s3.us.cloud-object-storage.appdomain.cloud/IBMDeveloperSkillsNetwork-ML0101EN-SkillsNetwork/labs/Module%206/cbb.csv')\n",
        "df.head()"
      ],
      "execution_count": null,
      "outputs": [
        {
          "output_type": "execute_result",
          "data": {
            "text/html": [
              "<div>\n",
              "<style scoped>\n",
              "    .dataframe tbody tr th:only-of-type {\n",
              "        vertical-align: middle;\n",
              "    }\n",
              "\n",
              "    .dataframe tbody tr th {\n",
              "        vertical-align: top;\n",
              "    }\n",
              "\n",
              "    .dataframe thead th {\n",
              "        text-align: right;\n",
              "    }\n",
              "</style>\n",
              "<table border=\"1\" class=\"dataframe\">\n",
              "  <thead>\n",
              "    <tr style=\"text-align: right;\">\n",
              "      <th></th>\n",
              "      <th>TEAM</th>\n",
              "      <th>CONF</th>\n",
              "      <th>G</th>\n",
              "      <th>W</th>\n",
              "      <th>ADJOE</th>\n",
              "      <th>ADJDE</th>\n",
              "      <th>BARTHAG</th>\n",
              "      <th>EFG_O</th>\n",
              "      <th>EFG_D</th>\n",
              "      <th>TOR</th>\n",
              "      <th>TORD</th>\n",
              "      <th>ORB</th>\n",
              "      <th>DRB</th>\n",
              "      <th>FTR</th>\n",
              "      <th>FTRD</th>\n",
              "      <th>2P_O</th>\n",
              "      <th>2P_D</th>\n",
              "      <th>3P_O</th>\n",
              "      <th>3P_D</th>\n",
              "      <th>ADJ_T</th>\n",
              "      <th>WAB</th>\n",
              "      <th>POSTSEASON</th>\n",
              "      <th>SEED</th>\n",
              "      <th>YEAR</th>\n",
              "    </tr>\n",
              "  </thead>\n",
              "  <tbody>\n",
              "    <tr>\n",
              "      <th>0</th>\n",
              "      <td>North Carolina</td>\n",
              "      <td>ACC</td>\n",
              "      <td>40</td>\n",
              "      <td>33</td>\n",
              "      <td>123.3</td>\n",
              "      <td>94.9</td>\n",
              "      <td>0.9531</td>\n",
              "      <td>52.6</td>\n",
              "      <td>48.1</td>\n",
              "      <td>15.4</td>\n",
              "      <td>18.2</td>\n",
              "      <td>40.7</td>\n",
              "      <td>30.0</td>\n",
              "      <td>32.3</td>\n",
              "      <td>30.4</td>\n",
              "      <td>53.9</td>\n",
              "      <td>44.6</td>\n",
              "      <td>32.7</td>\n",
              "      <td>36.2</td>\n",
              "      <td>71.7</td>\n",
              "      <td>8.6</td>\n",
              "      <td>2ND</td>\n",
              "      <td>1.0</td>\n",
              "      <td>2016</td>\n",
              "    </tr>\n",
              "    <tr>\n",
              "      <th>1</th>\n",
              "      <td>Villanova</td>\n",
              "      <td>BE</td>\n",
              "      <td>40</td>\n",
              "      <td>35</td>\n",
              "      <td>123.1</td>\n",
              "      <td>90.9</td>\n",
              "      <td>0.9703</td>\n",
              "      <td>56.1</td>\n",
              "      <td>46.7</td>\n",
              "      <td>16.3</td>\n",
              "      <td>20.6</td>\n",
              "      <td>28.2</td>\n",
              "      <td>29.4</td>\n",
              "      <td>34.1</td>\n",
              "      <td>30.0</td>\n",
              "      <td>57.4</td>\n",
              "      <td>44.1</td>\n",
              "      <td>36.2</td>\n",
              "      <td>33.9</td>\n",
              "      <td>66.7</td>\n",
              "      <td>8.9</td>\n",
              "      <td>Champions</td>\n",
              "      <td>2.0</td>\n",
              "      <td>2016</td>\n",
              "    </tr>\n",
              "    <tr>\n",
              "      <th>2</th>\n",
              "      <td>Notre Dame</td>\n",
              "      <td>ACC</td>\n",
              "      <td>36</td>\n",
              "      <td>24</td>\n",
              "      <td>118.3</td>\n",
              "      <td>103.3</td>\n",
              "      <td>0.8269</td>\n",
              "      <td>54.0</td>\n",
              "      <td>49.5</td>\n",
              "      <td>15.3</td>\n",
              "      <td>14.8</td>\n",
              "      <td>32.7</td>\n",
              "      <td>32.1</td>\n",
              "      <td>32.9</td>\n",
              "      <td>26.0</td>\n",
              "      <td>52.9</td>\n",
              "      <td>46.5</td>\n",
              "      <td>37.4</td>\n",
              "      <td>36.9</td>\n",
              "      <td>65.5</td>\n",
              "      <td>2.3</td>\n",
              "      <td>E8</td>\n",
              "      <td>6.0</td>\n",
              "      <td>2016</td>\n",
              "    </tr>\n",
              "    <tr>\n",
              "      <th>3</th>\n",
              "      <td>Virginia</td>\n",
              "      <td>ACC</td>\n",
              "      <td>37</td>\n",
              "      <td>29</td>\n",
              "      <td>119.9</td>\n",
              "      <td>91.0</td>\n",
              "      <td>0.9600</td>\n",
              "      <td>54.8</td>\n",
              "      <td>48.4</td>\n",
              "      <td>15.1</td>\n",
              "      <td>18.8</td>\n",
              "      <td>29.9</td>\n",
              "      <td>25.2</td>\n",
              "      <td>32.1</td>\n",
              "      <td>33.4</td>\n",
              "      <td>52.6</td>\n",
              "      <td>46.3</td>\n",
              "      <td>40.3</td>\n",
              "      <td>34.7</td>\n",
              "      <td>61.9</td>\n",
              "      <td>8.6</td>\n",
              "      <td>E8</td>\n",
              "      <td>1.0</td>\n",
              "      <td>2016</td>\n",
              "    </tr>\n",
              "    <tr>\n",
              "      <th>4</th>\n",
              "      <td>Kansas</td>\n",
              "      <td>B12</td>\n",
              "      <td>37</td>\n",
              "      <td>32</td>\n",
              "      <td>120.9</td>\n",
              "      <td>90.4</td>\n",
              "      <td>0.9662</td>\n",
              "      <td>55.7</td>\n",
              "      <td>45.1</td>\n",
              "      <td>17.8</td>\n",
              "      <td>18.5</td>\n",
              "      <td>32.2</td>\n",
              "      <td>27.9</td>\n",
              "      <td>38.6</td>\n",
              "      <td>37.3</td>\n",
              "      <td>52.7</td>\n",
              "      <td>43.4</td>\n",
              "      <td>41.3</td>\n",
              "      <td>32.5</td>\n",
              "      <td>70.1</td>\n",
              "      <td>11.6</td>\n",
              "      <td>E8</td>\n",
              "      <td>1.0</td>\n",
              "      <td>2016</td>\n",
              "    </tr>\n",
              "  </tbody>\n",
              "</table>\n",
              "</div>"
            ],
            "text/plain": [
              "             TEAM CONF   G   W  ADJOE  ...  ADJ_T   WAB  POSTSEASON  SEED  YEAR\n",
              "0  North Carolina  ACC  40  33  123.3  ...   71.7   8.6         2ND   1.0  2016\n",
              "1       Villanova   BE  40  35  123.1  ...   66.7   8.9   Champions   2.0  2016\n",
              "2      Notre Dame  ACC  36  24  118.3  ...   65.5   2.3          E8   6.0  2016\n",
              "3        Virginia  ACC  37  29  119.9  ...   61.9   8.6          E8   1.0  2016\n",
              "4          Kansas  B12  37  32  120.9  ...   70.1  11.6          E8   1.0  2016\n",
              "\n",
              "[5 rows x 24 columns]"
            ]
          },
          "metadata": {
            "tags": []
          },
          "execution_count": 167
        }
      ]
    },
    {
      "cell_type": "code",
      "metadata": {
        "colab": {
          "base_uri": "https://localhost:8080/"
        },
        "id": "iU0PO8Sj4tkc",
        "outputId": "1b18ca97-56e2-4710-d731-1c623956d89e"
      },
      "source": [
        "df.shape"
      ],
      "execution_count": null,
      "outputs": [
        {
          "output_type": "execute_result",
          "data": {
            "text/plain": [
              "(1406, 24)"
            ]
          },
          "metadata": {
            "tags": []
          },
          "execution_count": 168
        }
      ]
    },
    {
      "cell_type": "markdown",
      "metadata": {
        "id": "QmC2Ner04tkc"
      },
      "source": [
        "## Add Column\n",
        "\n",
        "Next we'll add a column that will contain \"true\" if the wins above bubble are over 7 and \"false\" if not. We'll call this column Win Index or \"windex\" for short. \n"
      ]
    },
    {
      "cell_type": "code",
      "metadata": {
        "id": "ro1hgXMo4tkd"
      },
      "source": [
        "df['windex'] = np.where(df.WAB > 7, 'True', 'False')"
      ],
      "execution_count": null,
      "outputs": []
    },
    {
      "cell_type": "markdown",
      "metadata": {
        "button": false,
        "new_sheet": false,
        "run_control": {
          "read_only": false
        },
        "id": "DEQsbgXI4tkd"
      },
      "source": [
        "# Data visualization and pre-processing\n"
      ]
    },
    {
      "cell_type": "markdown",
      "metadata": {
        "button": false,
        "new_sheet": false,
        "run_control": {
          "read_only": false
        },
        "id": "CoAXkeBg4tkd"
      },
      "source": [
        "Next we'll filter the data set to the teams that made the Sweet Sixteen, the Elite Eight, and the Final Four in the post season. We'll also create a new dataframe that will hold the values with the new column.\n"
      ]
    },
    {
      "cell_type": "code",
      "metadata": {
        "id": "BykxGm894tkd",
        "colab": {
          "base_uri": "https://localhost:8080/",
          "height": 204
        },
        "outputId": "fce489d9-0227-432b-bca9-f8dff590d9ca"
      },
      "source": [
        "df1 = df.loc[df['POSTSEASON'].str.contains('F4|S16|E8', na=False)]\n",
        "df1.head()"
      ],
      "execution_count": null,
      "outputs": [
        {
          "output_type": "execute_result",
          "data": {
            "text/html": [
              "<div>\n",
              "<style scoped>\n",
              "    .dataframe tbody tr th:only-of-type {\n",
              "        vertical-align: middle;\n",
              "    }\n",
              "\n",
              "    .dataframe tbody tr th {\n",
              "        vertical-align: top;\n",
              "    }\n",
              "\n",
              "    .dataframe thead th {\n",
              "        text-align: right;\n",
              "    }\n",
              "</style>\n",
              "<table border=\"1\" class=\"dataframe\">\n",
              "  <thead>\n",
              "    <tr style=\"text-align: right;\">\n",
              "      <th></th>\n",
              "      <th>TEAM</th>\n",
              "      <th>CONF</th>\n",
              "      <th>G</th>\n",
              "      <th>W</th>\n",
              "      <th>ADJOE</th>\n",
              "      <th>ADJDE</th>\n",
              "      <th>BARTHAG</th>\n",
              "      <th>EFG_O</th>\n",
              "      <th>EFG_D</th>\n",
              "      <th>TOR</th>\n",
              "      <th>TORD</th>\n",
              "      <th>ORB</th>\n",
              "      <th>DRB</th>\n",
              "      <th>FTR</th>\n",
              "      <th>FTRD</th>\n",
              "      <th>2P_O</th>\n",
              "      <th>2P_D</th>\n",
              "      <th>3P_O</th>\n",
              "      <th>3P_D</th>\n",
              "      <th>ADJ_T</th>\n",
              "      <th>WAB</th>\n",
              "      <th>POSTSEASON</th>\n",
              "      <th>SEED</th>\n",
              "      <th>YEAR</th>\n",
              "      <th>windex</th>\n",
              "    </tr>\n",
              "  </thead>\n",
              "  <tbody>\n",
              "    <tr>\n",
              "      <th>2</th>\n",
              "      <td>Notre Dame</td>\n",
              "      <td>ACC</td>\n",
              "      <td>36</td>\n",
              "      <td>24</td>\n",
              "      <td>118.3</td>\n",
              "      <td>103.3</td>\n",
              "      <td>0.8269</td>\n",
              "      <td>54.0</td>\n",
              "      <td>49.5</td>\n",
              "      <td>15.3</td>\n",
              "      <td>14.8</td>\n",
              "      <td>32.7</td>\n",
              "      <td>32.1</td>\n",
              "      <td>32.9</td>\n",
              "      <td>26.0</td>\n",
              "      <td>52.9</td>\n",
              "      <td>46.5</td>\n",
              "      <td>37.4</td>\n",
              "      <td>36.9</td>\n",
              "      <td>65.5</td>\n",
              "      <td>2.3</td>\n",
              "      <td>E8</td>\n",
              "      <td>6.0</td>\n",
              "      <td>2016</td>\n",
              "      <td>False</td>\n",
              "    </tr>\n",
              "    <tr>\n",
              "      <th>3</th>\n",
              "      <td>Virginia</td>\n",
              "      <td>ACC</td>\n",
              "      <td>37</td>\n",
              "      <td>29</td>\n",
              "      <td>119.9</td>\n",
              "      <td>91.0</td>\n",
              "      <td>0.9600</td>\n",
              "      <td>54.8</td>\n",
              "      <td>48.4</td>\n",
              "      <td>15.1</td>\n",
              "      <td>18.8</td>\n",
              "      <td>29.9</td>\n",
              "      <td>25.2</td>\n",
              "      <td>32.1</td>\n",
              "      <td>33.4</td>\n",
              "      <td>52.6</td>\n",
              "      <td>46.3</td>\n",
              "      <td>40.3</td>\n",
              "      <td>34.7</td>\n",
              "      <td>61.9</td>\n",
              "      <td>8.6</td>\n",
              "      <td>E8</td>\n",
              "      <td>1.0</td>\n",
              "      <td>2016</td>\n",
              "      <td>True</td>\n",
              "    </tr>\n",
              "    <tr>\n",
              "      <th>4</th>\n",
              "      <td>Kansas</td>\n",
              "      <td>B12</td>\n",
              "      <td>37</td>\n",
              "      <td>32</td>\n",
              "      <td>120.9</td>\n",
              "      <td>90.4</td>\n",
              "      <td>0.9662</td>\n",
              "      <td>55.7</td>\n",
              "      <td>45.1</td>\n",
              "      <td>17.8</td>\n",
              "      <td>18.5</td>\n",
              "      <td>32.2</td>\n",
              "      <td>27.9</td>\n",
              "      <td>38.6</td>\n",
              "      <td>37.3</td>\n",
              "      <td>52.7</td>\n",
              "      <td>43.4</td>\n",
              "      <td>41.3</td>\n",
              "      <td>32.5</td>\n",
              "      <td>70.1</td>\n",
              "      <td>11.6</td>\n",
              "      <td>E8</td>\n",
              "      <td>1.0</td>\n",
              "      <td>2016</td>\n",
              "      <td>True</td>\n",
              "    </tr>\n",
              "    <tr>\n",
              "      <th>5</th>\n",
              "      <td>Oregon</td>\n",
              "      <td>P12</td>\n",
              "      <td>37</td>\n",
              "      <td>30</td>\n",
              "      <td>118.4</td>\n",
              "      <td>96.2</td>\n",
              "      <td>0.9163</td>\n",
              "      <td>52.3</td>\n",
              "      <td>48.9</td>\n",
              "      <td>16.1</td>\n",
              "      <td>20.2</td>\n",
              "      <td>34.1</td>\n",
              "      <td>30.5</td>\n",
              "      <td>40.3</td>\n",
              "      <td>32.0</td>\n",
              "      <td>52.6</td>\n",
              "      <td>46.1</td>\n",
              "      <td>34.4</td>\n",
              "      <td>36.2</td>\n",
              "      <td>69.0</td>\n",
              "      <td>6.7</td>\n",
              "      <td>E8</td>\n",
              "      <td>1.0</td>\n",
              "      <td>2016</td>\n",
              "      <td>False</td>\n",
              "    </tr>\n",
              "    <tr>\n",
              "      <th>6</th>\n",
              "      <td>Syracuse</td>\n",
              "      <td>ACC</td>\n",
              "      <td>37</td>\n",
              "      <td>23</td>\n",
              "      <td>111.9</td>\n",
              "      <td>93.6</td>\n",
              "      <td>0.8857</td>\n",
              "      <td>50.0</td>\n",
              "      <td>47.3</td>\n",
              "      <td>18.1</td>\n",
              "      <td>20.4</td>\n",
              "      <td>33.5</td>\n",
              "      <td>35.3</td>\n",
              "      <td>35.4</td>\n",
              "      <td>28.0</td>\n",
              "      <td>47.2</td>\n",
              "      <td>48.1</td>\n",
              "      <td>36.0</td>\n",
              "      <td>30.7</td>\n",
              "      <td>65.5</td>\n",
              "      <td>-0.3</td>\n",
              "      <td>F4</td>\n",
              "      <td>10.0</td>\n",
              "      <td>2016</td>\n",
              "      <td>False</td>\n",
              "    </tr>\n",
              "  </tbody>\n",
              "</table>\n",
              "</div>"
            ],
            "text/plain": [
              "         TEAM CONF   G   W  ADJOE  ...   WAB  POSTSEASON  SEED  YEAR  windex\n",
              "2  Notre Dame  ACC  36  24  118.3  ...   2.3          E8   6.0  2016   False\n",
              "3    Virginia  ACC  37  29  119.9  ...   8.6          E8   1.0  2016    True\n",
              "4      Kansas  B12  37  32  120.9  ...  11.6          E8   1.0  2016    True\n",
              "5      Oregon  P12  37  30  118.4  ...   6.7          E8   1.0  2016   False\n",
              "6    Syracuse  ACC  37  23  111.9  ...  -0.3          F4  10.0  2016   False\n",
              "\n",
              "[5 rows x 25 columns]"
            ]
          },
          "metadata": {
            "tags": []
          },
          "execution_count": 170
        }
      ]
    },
    {
      "cell_type": "code",
      "metadata": {
        "button": false,
        "new_sheet": false,
        "run_control": {
          "read_only": false
        },
        "id": "eOOc0YeB4tkd",
        "colab": {
          "base_uri": "https://localhost:8080/"
        },
        "outputId": "cd541620-7408-4b85-8cac-e8abe82193b9"
      },
      "source": [
        "df1['POSTSEASON'].value_counts()"
      ],
      "execution_count": null,
      "outputs": [
        {
          "output_type": "execute_result",
          "data": {
            "text/plain": [
              "S16    32\n",
              "E8     16\n",
              "F4      8\n",
              "Name: POSTSEASON, dtype: int64"
            ]
          },
          "metadata": {
            "tags": []
          },
          "execution_count": 171
        }
      ]
    },
    {
      "cell_type": "markdown",
      "metadata": {
        "button": false,
        "new_sheet": false,
        "run_control": {
          "read_only": false
        },
        "id": "BEPuI5h94tke"
      },
      "source": [
        "32 teams made it into the Sweet Sixteen, 16 into the Elite Eight, and 8 made it into the Final Four over 5 seasons. \n"
      ]
    },
    {
      "cell_type": "markdown",
      "metadata": {
        "id": "UdeCO57N4tke"
      },
      "source": [
        "Lets plot some columns to underestand data better:\n"
      ]
    },
    {
      "cell_type": "code",
      "metadata": {
        "id": "XAkeobD24tke",
        "colab": {
          "base_uri": "https://localhost:8080/"
        },
        "outputId": "d011a6cb-e8e3-428d-c663-b7e2972afdf4"
      },
      "source": [
        "# notice: installing seaborn might takes a few minutes\n",
        "!conda install -c anaconda seaborn -y"
      ],
      "execution_count": null,
      "outputs": [
        {
          "output_type": "stream",
          "text": [
            "/bin/bash: conda: command not found\n"
          ],
          "name": "stdout"
        }
      ]
    },
    {
      "cell_type": "code",
      "metadata": {
        "id": "w21nyzNY4tke",
        "colab": {
          "base_uri": "https://localhost:8080/",
          "height": 225
        },
        "outputId": "93637f57-85fc-4c44-e61a-5b795e8cfa0f"
      },
      "source": [
        "import seaborn as sns\n",
        "\n",
        "bins = np.linspace(df1.BARTHAG.min(), df1.BARTHAG.max(), 10)\n",
        "g = sns.FacetGrid(df1, col=\"windex\", hue=\"POSTSEASON\", palette=\"Set1\", col_wrap=6)\n",
        "g.map(plt.hist, 'BARTHAG', bins=bins, ec=\"k\")\n",
        "\n",
        "g.axes[-1].legend()\n",
        "plt.show()"
      ],
      "execution_count": null,
      "outputs": [
        {
          "output_type": "display_data",
          "data": {
            "image/png": "[encoded data removed]",
            "text/plain": [
              "<Figure size 1296x216 with 2 Axes>"
            ]
          },
          "metadata": {
            "tags": [],
            "needs_background": "light"
          }
        }
      ]
    },
    {
      "cell_type": "code",
      "metadata": {
        "button": false,
        "new_sheet": false,
        "run_control": {
          "read_only": false
        },
        "id": "BQBPKLip4tke",
        "colab": {
          "base_uri": "https://localhost:8080/",
          "height": 225
        },
        "outputId": "60b3be13-ad17-404d-f5f5-b150ef91873b"
      },
      "source": [
        "bins = np.linspace(df1.ADJOE.min(), df1.ADJOE.max(), 10)\n",
        "g = sns.FacetGrid(df1, col=\"windex\", hue=\"POSTSEASON\", palette=\"Set1\", col_wrap=2)\n",
        "g.map(plt.hist, 'ADJOE', bins=bins, ec=\"k\")\n",
        "\n",
        "g.axes[-1].legend()\n",
        "plt.show()"
      ],
      "execution_count": null,
      "outputs": [
        {
          "output_type": "display_data",
          "data": {
            "image/png": "[encoded data removed]",
            "text/plain": [
              "<Figure size 432x216 with 2 Axes>"
            ]
          },
          "metadata": {
            "tags": [],
            "needs_background": "light"
          }
        }
      ]
    },
    {
      "cell_type": "markdown",
      "metadata": {
        "button": false,
        "new_sheet": false,
        "run_control": {
          "read_only": false
        },
        "id": "_-M3RfGP4tkf"
      },
      "source": [
        "# Pre-processing:  Feature selection/extraction\n"
      ]
    },
    {
      "cell_type": "markdown",
      "metadata": {
        "button": false,
        "new_sheet": false,
        "run_control": {
          "read_only": false
        },
        "id": "xwtue0oW4tkf"
      },
      "source": [
        "### Lets look at how Adjusted Defense Efficiency plots\n"
      ]
    },
    {
      "cell_type": "code",
      "metadata": {
        "button": false,
        "new_sheet": false,
        "run_control": {
          "read_only": false
        },
        "id": "0PJk2kFn4tkf",
        "colab": {
          "base_uri": "https://localhost:8080/",
          "height": 225
        },
        "outputId": "47763d62-cf7d-44db-c29e-3cffe1bcde91"
      },
      "source": [
        "bins = np.linspace(df1.ADJDE.min(), df1.ADJDE.max(), 10)\n",
        "g = sns.FacetGrid(df1, col=\"windex\", hue=\"POSTSEASON\", palette=\"Set1\", col_wrap=2)\n",
        "g.map(plt.hist, 'ADJDE', bins=bins, ec=\"k\")\n",
        "g.axes[-1].legend()\n",
        "plt.show()\n"
      ],
      "execution_count": null,
      "outputs": [
        {
          "output_type": "display_data",
          "data": {
            "image/png": "[encoded data removed]",
            "text/plain": [
              "<Figure size 432x216 with 2 Axes>"
            ]
          },
          "metadata": {
            "tags": [],
            "needs_background": "light"
          }
        }
      ]
    },
    {
      "cell_type": "markdown",
      "metadata": {
        "button": false,
        "new_sheet": false,
        "run_control": {
          "read_only": false
        },
        "id": "s2Jo4E5E4tkf"
      },
      "source": [
        "We see that this data point doesn't impact the ability of a team to get into the Final Four. \n"
      ]
    },
    {
      "cell_type": "markdown",
      "metadata": {
        "button": false,
        "new_sheet": false,
        "run_control": {
          "read_only": false
        },
        "id": "7BWgLfHe4tkf"
      },
      "source": [
        "## Convert Categorical features to numerical values\n"
      ]
    },
    {
      "cell_type": "markdown",
      "metadata": {
        "button": false,
        "new_sheet": false,
        "run_control": {
          "read_only": false
        },
        "id": "BH1cXtU24tkg"
      },
      "source": [
        "Lets look at the postseason:\n"
      ]
    },
    {
      "cell_type": "code",
      "metadata": {
        "button": false,
        "new_sheet": false,
        "run_control": {
          "read_only": false
        },
        "id": "o-5jkb2o4tkg",
        "colab": {
          "base_uri": "https://localhost:8080/"
        },
        "outputId": "3c358d4e-04a1-44c9-bef8-3678b5e3f1d6"
      },
      "source": [
        "df1.groupby(['windex'])['POSTSEASON'].value_counts(normalize=True)"
      ],
      "execution_count": null,
      "outputs": [
        {
          "output_type": "execute_result",
          "data": {
            "text/plain": [
              "windex  POSTSEASON\n",
              "False   S16           0.605263\n",
              "        E8            0.263158\n",
              "        F4            0.131579\n",
              "True    S16           0.500000\n",
              "        E8            0.333333\n",
              "        F4            0.166667\n",
              "Name: POSTSEASON, dtype: float64"
            ]
          },
          "metadata": {
            "tags": []
          },
          "execution_count": 176
        }
      ]
    },
    {
      "cell_type": "markdown",
      "metadata": {
        "button": false,
        "new_sheet": false,
        "run_control": {
          "read_only": false
        },
        "id": "voHbiVUr4tkg"
      },
      "source": [
        "13% of teams with 6 or less wins above bubble make it into the final four while 17% of teams with 7 or more do.\n"
      ]
    },
    {
      "cell_type": "markdown",
      "metadata": {
        "button": false,
        "new_sheet": false,
        "run_control": {
          "read_only": false
        },
        "id": "PuKOCmlK4tkg"
      },
      "source": [
        "Lets convert wins above bubble (winindex) under 7 to 0 and over 7 to 1:\n"
      ]
    },
    {
      "cell_type": "code",
      "metadata": {
        "button": false,
        "new_sheet": false,
        "run_control": {
          "read_only": false
        },
        "id": "IzlpKfK64tkg",
        "colab": {
          "base_uri": "https://localhost:8080/",
          "height": 289
        },
        "outputId": "9217d403-1f35-4bb6-b73d-aaa95ea6c86d"
      },
      "source": [
        "df1['windex'].replace(to_replace=['False','True'], value=[0,1],inplace=True)\n",
        "df1.head()"
      ],
      "execution_count": null,
      "outputs": [
        {
          "output_type": "stream",
          "text": [
            "/usr/local/lib/python3.7/dist-packages/pandas/core/series.py:4582: SettingWithCopyWarning: \n",
            "A value is trying to be set on a copy of a slice from a DataFrame\n",
            "\n",
            "See the caveats in the documentation: https://pandas.pydata.org/pandas-docs/stable/user_guide/indexing.html#returning-a-view-versus-a-copy\n",
            "  method=method,\n"
          ],
          "name": "stderr"
        },
        {
          "output_type": "execute_result",
          "data": {
            "text/html": [
              "<div>\n",
              "<style scoped>\n",
              "    .dataframe tbody tr th:only-of-type {\n",
              "        vertical-align: middle;\n",
              "    }\n",
              "\n",
              "    .dataframe tbody tr th {\n",
              "        vertical-align: top;\n",
              "    }\n",
              "\n",
              "    .dataframe thead th {\n",
              "        text-align: right;\n",
              "    }\n",
              "</style>\n",
              "<table border=\"1\" class=\"dataframe\">\n",
              "  <thead>\n",
              "    <tr style=\"text-align: right;\">\n",
              "      <th></th>\n",
              "      <th>TEAM</th>\n",
              "      <th>CONF</th>\n",
              "      <th>G</th>\n",
              "      <th>W</th>\n",
              "      <th>ADJOE</th>\n",
              "      <th>ADJDE</th>\n",
              "      <th>BARTHAG</th>\n",
              "      <th>EFG_O</th>\n",
              "      <th>EFG_D</th>\n",
              "      <th>TOR</th>\n",
              "      <th>TORD</th>\n",
              "      <th>ORB</th>\n",
              "      <th>DRB</th>\n",
              "      <th>FTR</th>\n",
              "      <th>FTRD</th>\n",
              "      <th>2P_O</th>\n",
              "      <th>2P_D</th>\n",
              "      <th>3P_O</th>\n",
              "      <th>3P_D</th>\n",
              "      <th>ADJ_T</th>\n",
              "      <th>WAB</th>\n",
              "      <th>POSTSEASON</th>\n",
              "      <th>SEED</th>\n",
              "      <th>YEAR</th>\n",
              "      <th>windex</th>\n",
              "    </tr>\n",
              "  </thead>\n",
              "  <tbody>\n",
              "    <tr>\n",
              "      <th>2</th>\n",
              "      <td>Notre Dame</td>\n",
              "      <td>ACC</td>\n",
              "      <td>36</td>\n",
              "      <td>24</td>\n",
              "      <td>118.3</td>\n",
              "      <td>103.3</td>\n",
              "      <td>0.8269</td>\n",
              "      <td>54.0</td>\n",
              "      <td>49.5</td>\n",
              "      <td>15.3</td>\n",
              "      <td>14.8</td>\n",
              "      <td>32.7</td>\n",
              "      <td>32.1</td>\n",
              "      <td>32.9</td>\n",
              "      <td>26.0</td>\n",
              "      <td>52.9</td>\n",
              "      <td>46.5</td>\n",
              "      <td>37.4</td>\n",
              "      <td>36.9</td>\n",
              "      <td>65.5</td>\n",
              "      <td>2.3</td>\n",
              "      <td>E8</td>\n",
              "      <td>6.0</td>\n",
              "      <td>2016</td>\n",
              "      <td>0</td>\n",
              "    </tr>\n",
              "    <tr>\n",
              "      <th>3</th>\n",
              "      <td>Virginia</td>\n",
              "      <td>ACC</td>\n",
              "      <td>37</td>\n",
              "      <td>29</td>\n",
              "      <td>119.9</td>\n",
              "      <td>91.0</td>\n",
              "      <td>0.9600</td>\n",
              "      <td>54.8</td>\n",
              "      <td>48.4</td>\n",
              "      <td>15.1</td>\n",
              "      <td>18.8</td>\n",
              "      <td>29.9</td>\n",
              "      <td>25.2</td>\n",
              "      <td>32.1</td>\n",
              "      <td>33.4</td>\n",
              "      <td>52.6</td>\n",
              "      <td>46.3</td>\n",
              "      <td>40.3</td>\n",
              "      <td>34.7</td>\n",
              "      <td>61.9</td>\n",
              "      <td>8.6</td>\n",
              "      <td>E8</td>\n",
              "      <td>1.0</td>\n",
              "      <td>2016</td>\n",
              "      <td>1</td>\n",
              "    </tr>\n",
              "    <tr>\n",
              "      <th>4</th>\n",
              "      <td>Kansas</td>\n",
              "      <td>B12</td>\n",
              "      <td>37</td>\n",
              "      <td>32</td>\n",
              "      <td>120.9</td>\n",
              "      <td>90.4</td>\n",
              "      <td>0.9662</td>\n",
              "      <td>55.7</td>\n",
              "      <td>45.1</td>\n",
              "      <td>17.8</td>\n",
              "      <td>18.5</td>\n",
              "      <td>32.2</td>\n",
              "      <td>27.9</td>\n",
              "      <td>38.6</td>\n",
              "      <td>37.3</td>\n",
              "      <td>52.7</td>\n",
              "      <td>43.4</td>\n",
              "      <td>41.3</td>\n",
              "      <td>32.5</td>\n",
              "      <td>70.1</td>\n",
              "      <td>11.6</td>\n",
              "      <td>E8</td>\n",
              "      <td>1.0</td>\n",
              "      <td>2016</td>\n",
              "      <td>1</td>\n",
              "    </tr>\n",
              "    <tr>\n",
              "      <th>5</th>\n",
              "      <td>Oregon</td>\n",
              "      <td>P12</td>\n",
              "      <td>37</td>\n",
              "      <td>30</td>\n",
              "      <td>118.4</td>\n",
              "      <td>96.2</td>\n",
              "      <td>0.9163</td>\n",
              "      <td>52.3</td>\n",
              "      <td>48.9</td>\n",
              "      <td>16.1</td>\n",
              "      <td>20.2</td>\n",
              "      <td>34.1</td>\n",
              "      <td>30.5</td>\n",
              "      <td>40.3</td>\n",
              "      <td>32.0</td>\n",
              "      <td>52.6</td>\n",
              "      <td>46.1</td>\n",
              "      <td>34.4</td>\n",
              "      <td>36.2</td>\n",
              "      <td>69.0</td>\n",
              "      <td>6.7</td>\n",
              "      <td>E8</td>\n",
              "      <td>1.0</td>\n",
              "      <td>2016</td>\n",
              "      <td>0</td>\n",
              "    </tr>\n",
              "    <tr>\n",
              "      <th>6</th>\n",
              "      <td>Syracuse</td>\n",
              "      <td>ACC</td>\n",
              "      <td>37</td>\n",
              "      <td>23</td>\n",
              "      <td>111.9</td>\n",
              "      <td>93.6</td>\n",
              "      <td>0.8857</td>\n",
              "      <td>50.0</td>\n",
              "      <td>47.3</td>\n",
              "      <td>18.1</td>\n",
              "      <td>20.4</td>\n",
              "      <td>33.5</td>\n",
              "      <td>35.3</td>\n",
              "      <td>35.4</td>\n",
              "      <td>28.0</td>\n",
              "      <td>47.2</td>\n",
              "      <td>48.1</td>\n",
              "      <td>36.0</td>\n",
              "      <td>30.7</td>\n",
              "      <td>65.5</td>\n",
              "      <td>-0.3</td>\n",
              "      <td>F4</td>\n",
              "      <td>10.0</td>\n",
              "      <td>2016</td>\n",
              "      <td>0</td>\n",
              "    </tr>\n",
              "  </tbody>\n",
              "</table>\n",
              "</div>"
            ],
            "text/plain": [
              "         TEAM CONF   G   W  ADJOE  ...   WAB  POSTSEASON  SEED  YEAR  windex\n",
              "2  Notre Dame  ACC  36  24  118.3  ...   2.3          E8   6.0  2016       0\n",
              "3    Virginia  ACC  37  29  119.9  ...   8.6          E8   1.0  2016       1\n",
              "4      Kansas  B12  37  32  120.9  ...  11.6          E8   1.0  2016       1\n",
              "5      Oregon  P12  37  30  118.4  ...   6.7          E8   1.0  2016       0\n",
              "6    Syracuse  ACC  37  23  111.9  ...  -0.3          F4  10.0  2016       0\n",
              "\n",
              "[5 rows x 25 columns]"
            ]
          },
          "metadata": {
            "tags": []
          },
          "execution_count": 177
        }
      ]
    },
    {
      "cell_type": "markdown",
      "metadata": {
        "button": false,
        "new_sheet": false,
        "run_control": {
          "read_only": false
        },
        "id": "DrC39RHH4tkh"
      },
      "source": [
        "### Feature selection\n"
      ]
    },
    {
      "cell_type": "markdown",
      "metadata": {
        "button": false,
        "new_sheet": false,
        "run_control": {
          "read_only": false
        },
        "id": "k6KTQh8M4tkh"
      },
      "source": [
        "Lets defind feature sets, X:\n"
      ]
    },
    {
      "cell_type": "code",
      "metadata": {
        "button": false,
        "new_sheet": false,
        "run_control": {
          "read_only": false
        },
        "id": "iLPH6QnR4tkh",
        "colab": {
          "base_uri": "https://localhost:8080/",
          "height": 204
        },
        "outputId": "bcd5f63d-c4b9-4a66-cef5-e5c6fb80255f"
      },
      "source": [
        "X = df1[['G', 'W', 'ADJOE', 'ADJDE', 'BARTHAG', 'EFG_O', 'EFG_D',\n",
        "       'TOR', 'TORD', 'ORB', 'DRB', 'FTR', 'FTRD', '2P_O', '2P_D', '3P_O',\n",
        "       '3P_D', 'ADJ_T', 'WAB', 'SEED', 'windex']]\n",
        "X[0:5]"
      ],
      "execution_count": null,
      "outputs": [
        {
          "output_type": "execute_result",
          "data": {
            "text/html": [
              "<div>\n",
              "<style scoped>\n",
              "    .dataframe tbody tr th:only-of-type {\n",
              "        vertical-align: middle;\n",
              "    }\n",
              "\n",
              "    .dataframe tbody tr th {\n",
              "        vertical-align: top;\n",
              "    }\n",
              "\n",
              "    .dataframe thead th {\n",
              "        text-align: right;\n",
              "    }\n",
              "</style>\n",
              "<table border=\"1\" class=\"dataframe\">\n",
              "  <thead>\n",
              "    <tr style=\"text-align: right;\">\n",
              "      <th></th>\n",
              "      <th>G</th>\n",
              "      <th>W</th>\n",
              "      <th>ADJOE</th>\n",
              "      <th>ADJDE</th>\n",
              "      <th>BARTHAG</th>\n",
              "      <th>EFG_O</th>\n",
              "      <th>EFG_D</th>\n",
              "      <th>TOR</th>\n",
              "      <th>TORD</th>\n",
              "      <th>ORB</th>\n",
              "      <th>DRB</th>\n",
              "      <th>FTR</th>\n",
              "      <th>FTRD</th>\n",
              "      <th>2P_O</th>\n",
              "      <th>2P_D</th>\n",
              "      <th>3P_O</th>\n",
              "      <th>3P_D</th>\n",
              "      <th>ADJ_T</th>\n",
              "      <th>WAB</th>\n",
              "      <th>SEED</th>\n",
              "      <th>windex</th>\n",
              "    </tr>\n",
              "  </thead>\n",
              "  <tbody>\n",
              "    <tr>\n",
              "      <th>2</th>\n",
              "      <td>36</td>\n",
              "      <td>24</td>\n",
              "      <td>118.3</td>\n",
              "      <td>103.3</td>\n",
              "      <td>0.8269</td>\n",
              "      <td>54.0</td>\n",
              "      <td>49.5</td>\n",
              "      <td>15.3</td>\n",
              "      <td>14.8</td>\n",
              "      <td>32.7</td>\n",
              "      <td>32.1</td>\n",
              "      <td>32.9</td>\n",
              "      <td>26.0</td>\n",
              "      <td>52.9</td>\n",
              "      <td>46.5</td>\n",
              "      <td>37.4</td>\n",
              "      <td>36.9</td>\n",
              "      <td>65.5</td>\n",
              "      <td>2.3</td>\n",
              "      <td>6.0</td>\n",
              "      <td>0</td>\n",
              "    </tr>\n",
              "    <tr>\n",
              "      <th>3</th>\n",
              "      <td>37</td>\n",
              "      <td>29</td>\n",
              "      <td>119.9</td>\n",
              "      <td>91.0</td>\n",
              "      <td>0.9600</td>\n",
              "      <td>54.8</td>\n",
              "      <td>48.4</td>\n",
              "      <td>15.1</td>\n",
              "      <td>18.8</td>\n",
              "      <td>29.9</td>\n",
              "      <td>25.2</td>\n",
              "      <td>32.1</td>\n",
              "      <td>33.4</td>\n",
              "      <td>52.6</td>\n",
              "      <td>46.3</td>\n",
              "      <td>40.3</td>\n",
              "      <td>34.7</td>\n",
              "      <td>61.9</td>\n",
              "      <td>8.6</td>\n",
              "      <td>1.0</td>\n",
              "      <td>1</td>\n",
              "    </tr>\n",
              "    <tr>\n",
              "      <th>4</th>\n",
              "      <td>37</td>\n",
              "      <td>32</td>\n",
              "      <td>120.9</td>\n",
              "      <td>90.4</td>\n",
              "      <td>0.9662</td>\n",
              "      <td>55.7</td>\n",
              "      <td>45.1</td>\n",
              "      <td>17.8</td>\n",
              "      <td>18.5</td>\n",
              "      <td>32.2</td>\n",
              "      <td>27.9</td>\n",
              "      <td>38.6</td>\n",
              "      <td>37.3</td>\n",
              "      <td>52.7</td>\n",
              "      <td>43.4</td>\n",
              "      <td>41.3</td>\n",
              "      <td>32.5</td>\n",
              "      <td>70.1</td>\n",
              "      <td>11.6</td>\n",
              "      <td>1.0</td>\n",
              "      <td>1</td>\n",
              "    </tr>\n",
              "    <tr>\n",
              "      <th>5</th>\n",
              "      <td>37</td>\n",
              "      <td>30</td>\n",
              "      <td>118.4</td>\n",
              "      <td>96.2</td>\n",
              "      <td>0.9163</td>\n",
              "      <td>52.3</td>\n",
              "      <td>48.9</td>\n",
              "      <td>16.1</td>\n",
              "      <td>20.2</td>\n",
              "      <td>34.1</td>\n",
              "      <td>30.5</td>\n",
              "      <td>40.3</td>\n",
              "      <td>32.0</td>\n",
              "      <td>52.6</td>\n",
              "      <td>46.1</td>\n",
              "      <td>34.4</td>\n",
              "      <td>36.2</td>\n",
              "      <td>69.0</td>\n",
              "      <td>6.7</td>\n",
              "      <td>1.0</td>\n",
              "      <td>0</td>\n",
              "    </tr>\n",
              "    <tr>\n",
              "      <th>6</th>\n",
              "      <td>37</td>\n",
              "      <td>23</td>\n",
              "      <td>111.9</td>\n",
              "      <td>93.6</td>\n",
              "      <td>0.8857</td>\n",
              "      <td>50.0</td>\n",
              "      <td>47.3</td>\n",
              "      <td>18.1</td>\n",
              "      <td>20.4</td>\n",
              "      <td>33.5</td>\n",
              "      <td>35.3</td>\n",
              "      <td>35.4</td>\n",
              "      <td>28.0</td>\n",
              "      <td>47.2</td>\n",
              "      <td>48.1</td>\n",
              "      <td>36.0</td>\n",
              "      <td>30.7</td>\n",
              "      <td>65.5</td>\n",
              "      <td>-0.3</td>\n",
              "      <td>10.0</td>\n",
              "      <td>0</td>\n",
              "    </tr>\n",
              "  </tbody>\n",
              "</table>\n",
              "</div>"
            ],
            "text/plain": [
              "    G   W  ADJOE  ADJDE  BARTHAG  EFG_O  ...  3P_O  3P_D  ADJ_T   WAB  SEED  windex\n",
              "2  36  24  118.3  103.3   0.8269   54.0  ...  37.4  36.9   65.5   2.3   6.0       0\n",
              "3  37  29  119.9   91.0   0.9600   54.8  ...  40.3  34.7   61.9   8.6   1.0       1\n",
              "4  37  32  120.9   90.4   0.9662   55.7  ...  41.3  32.5   70.1  11.6   1.0       1\n",
              "5  37  30  118.4   96.2   0.9163   52.3  ...  34.4  36.2   69.0   6.7   1.0       0\n",
              "6  37  23  111.9   93.6   0.8857   50.0  ...  36.0  30.7   65.5  -0.3  10.0       0\n",
              "\n",
              "[5 rows x 21 columns]"
            ]
          },
          "metadata": {
            "tags": []
          },
          "execution_count": 178
        }
      ]
    },
    {
      "cell_type": "markdown",
      "metadata": {
        "button": false,
        "new_sheet": false,
        "run_control": {
          "read_only": false
        },
        "id": "bS0CW3zk4tkh"
      },
      "source": [
        "What are our lables? Round where the given team was eliminated or where their season ended (R68 = First Four, R64 = Round of 64, R32 = Round of 32, S16 = Sweet Sixteen, E8 = Elite Eight, F4 = Final Four, 2ND = Runner-up, Champion = Winner of the NCAA March Madness Tournament for that given year)|\n"
      ]
    },
    {
      "cell_type": "code",
      "metadata": {
        "button": false,
        "new_sheet": false,
        "run_control": {
          "read_only": false
        },
        "id": "vLu5v2O94tkh",
        "colab": {
          "base_uri": "https://localhost:8080/"
        },
        "outputId": "ae927f1c-5e8c-4d80-ff6e-6746fab666cc"
      },
      "source": [
        "y = df1['POSTSEASON'].values\n",
        "y[0:5]"
      ],
      "execution_count": null,
      "outputs": [
        {
          "output_type": "execute_result",
          "data": {
            "text/plain": [
              "array(['E8', 'E8', 'E8', 'E8', 'F4'], dtype=object)"
            ]
          },
          "metadata": {
            "tags": []
          },
          "execution_count": 179
        }
      ]
    },
    {
      "cell_type": "markdown",
      "metadata": {
        "button": false,
        "new_sheet": false,
        "run_control": {
          "read_only": false
        },
        "id": "v6EgORKB4tkh"
      },
      "source": [
        "## Normalize Data\n"
      ]
    },
    {
      "cell_type": "markdown",
      "metadata": {
        "button": false,
        "new_sheet": false,
        "run_control": {
          "read_only": false
        },
        "id": "zvPFx2g_4tki"
      },
      "source": [
        "Data Standardization give data zero mean and unit variance (technically should be done after train test split )\n"
      ]
    },
    {
      "cell_type": "code",
      "metadata": {
        "button": false,
        "new_sheet": false,
        "run_control": {
          "read_only": false
        },
        "id": "8k-KpKcu4tki",
        "colab": {
          "base_uri": "https://localhost:8080/"
        },
        "outputId": "e3897cbf-ced9-41e2-a95d-cf678ba20575"
      },
      "source": [
        "X= preprocessing.StandardScaler().fit(X).transform(X)\n",
        "X[0:5]"
      ],
      "execution_count": null,
      "outputs": [
        {
          "output_type": "execute_result",
          "data": {
            "text/plain": [
              "array([[-0.43331874, -1.26140173,  0.28034482,  2.74329908, -2.45717765,\n",
              "         0.10027963,  0.94171924, -1.16188145, -1.71391372,  0.12750511,\n",
              "         1.33368704, -0.4942211 , -0.87998988,  0.02784185,  0.00307239,\n",
              "         0.22576157,  1.59744386, -1.12106011, -1.0448016 ,  0.49716104,\n",
              "        -0.6882472 ],\n",
              "       [ 0.40343468,  0.35874728,  0.64758014, -0.90102957,  1.127076  ,\n",
              "         0.39390887,  0.38123706, -1.29466791, -0.03522254, -0.62979797,\n",
              "        -1.31585883, -0.68542235,  0.55458056, -0.07167795, -0.0829545 ,\n",
              "         1.32677295,  0.65081046, -2.369021  ,  0.98050611, -1.14054592,\n",
              "         1.45296631],\n",
              "       [ 0.40343468,  1.33083669,  0.87710222, -1.0788017 ,  1.29403598,\n",
              "         0.72424177, -1.30020946,  0.49794919, -0.16112438, -0.00772758,\n",
              "        -0.27908001,  0.86808783,  1.31063795, -0.03850468, -1.33034432,\n",
              "         1.70643205, -0.29582294,  0.47355659,  1.94493836, -1.14054592,\n",
              "         1.45296631],\n",
              "       [ 0.40343468,  0.68277708,  0.30329703,  0.63966222, -0.04972253,\n",
              "        -0.52368251,  0.63600169, -0.63073565,  0.55231938,  0.50615665,\n",
              "         0.71929959,  1.2743905 ,  0.28317534, -0.07167795, -0.16898138,\n",
              "        -0.91321572,  1.29624232,  0.0922352 ,  0.36969903, -1.14054592,\n",
              "        -0.6882472 ],\n",
              "       [ 0.40343468, -1.58543153, -1.18859646, -0.13068368, -0.87375079,\n",
              "        -1.36786658, -0.17924511,  0.69712887,  0.63625394,  0.34387742,\n",
              "         2.56246194,  0.10328282, -0.49226814, -1.8630343 ,  0.69128747,\n",
              "        -0.30576117, -1.07034117, -1.12106011, -1.88064288,  1.80732661,\n",
              "        -0.6882472 ]])"
            ]
          },
          "metadata": {
            "tags": []
          },
          "execution_count": 180
        }
      ]
    },
    {
      "cell_type": "markdown",
      "metadata": {
        "button": false,
        "new_sheet": false,
        "run_control": {
          "read_only": false
        },
        "id": "M8tWlhBE4tki"
      },
      "source": [
        "## Training and Validation\n"
      ]
    },
    {
      "cell_type": "markdown",
      "metadata": {
        "button": false,
        "new_sheet": false,
        "run_control": {
          "read_only": false
        },
        "id": "VNcO78ff4tki"
      },
      "source": [
        "Split the data into Training and Validation data.\n"
      ]
    },
    {
      "cell_type": "code",
      "metadata": {
        "button": false,
        "new_sheet": false,
        "run_control": {
          "read_only": false
        },
        "id": "3-oVLzxo4tki",
        "colab": {
          "base_uri": "https://localhost:8080/"
        },
        "outputId": "0188f8a3-c524-43a0-db13-75950b631383"
      },
      "source": [
        "# We split the X into train and test to find the best k\n",
        "from sklearn.model_selection import train_test_split\n",
        "X_train, X_val, y_train, y_val = train_test_split(X, y, test_size=0.2, random_state=4)\n",
        "print ('Train set:', X_train.shape,  y_train.shape)\n",
        "print ('Validation set:', X_val.shape,  y_val.shape)"
      ],
      "execution_count": null,
      "outputs": [
        {
          "output_type": "stream",
          "text": [
            "Train set: (44, 21) (44,)\n",
            "Validation set: (12, 21) (12,)\n"
          ],
          "name": "stdout"
        }
      ]
    },
    {
      "cell_type": "markdown",
      "metadata": {
        "button": false,
        "new_sheet": false,
        "run_control": {
          "read_only": false
        },
        "id": "3FvaIclf4tki"
      },
      "source": [
        "# Classification\n"
      ]
    },
    {
      "cell_type": "markdown",
      "metadata": {
        "button": false,
        "new_sheet": false,
        "run_control": {
          "read_only": false
        },
        "id": "0mQ3KJIy4tkj"
      },
      "source": [
        "Now, it is your turn, use the training set to build an accurate model. Then use the validation set  to report the accuracy of the model\n",
        "You should use the following algorithm:\n",
        "\n",
        "-   K Nearest Neighbor(KNN)\n",
        "-   Decision Tree\n",
        "-   Support Vector Machine\n",
        "-   Logistic Regression\n"
      ]
    },
    {
      "cell_type": "markdown",
      "metadata": {
        "id": "WypE8xlp4tkj"
      },
      "source": [
        "# K Nearest Neighbor(KNN)\n",
        "\n",
        "<b>Question  1 </b> Build a KNN model using a value of k equals five, find the accuracy on the validation data (X_val and y_val)\n"
      ]
    },
    {
      "cell_type": "markdown",
      "metadata": {
        "id": "MaaVX61q4tkj"
      },
      "source": [
        "You can use <code> accuracy_score</cdoe>\n"
      ]
    },
    {
      "cell_type": "code",
      "metadata": {
        "id": "fWYJqRoR4tkj"
      },
      "source": [
        "from sklearn.metrics import accuracy_score\n",
        "from sklearn.neighbors import KNeighborsClassifier"
      ],
      "execution_count": null,
      "outputs": []
    },
    {
      "cell_type": "markdown",
      "metadata": {
        "id": "Gaf7CMQi4tkj"
      },
      "source": [
        "<b>Question  2</b> Determine and print the accuracy for the first 15 values of k the on the validation data:\n"
      ]
    },
    {
      "cell_type": "code",
      "metadata": {
        "id": "kAGfgPJ54tkk",
        "colab": {
          "base_uri": "https://localhost:8080/"
        },
        "outputId": "8a7fb96b-6a00-46fb-faeb-bc64160bbd15"
      },
      "source": [
        "# For Question 1\n",
        "knn = KNeighborsClassifier(n_neighbors=5)\n",
        "knn.fit(X_train, y_train)\n",
        "y_pred = knn.predict(X_val)\n",
        "\n",
        "print(accuracy_score(y_val,y_pred)*100) # thing as a percentage"
      ],
      "execution_count": null,
      "outputs": [
        {
          "output_type": "stream",
          "text": [
            "66.66666666666666\n"
          ],
          "name": "stdout"
        }
      ]
    },
    {
      "cell_type": "code",
      "metadata": {
        "colab": {
          "base_uri": "https://localhost:8080/"
        },
        "id": "_VSx3PMIHdsf",
        "outputId": "76029dbe-df6f-42f9-be12-38c684dd00ed"
      },
      "source": [
        "# For Question 2\n",
        "\n",
        "Ks = 16\n",
        "mean_acc = np.zeros((Ks-1))\n",
        "std_acc = np.zeros((Ks-1))\n",
        "\n",
        "for n in range(1,Ks):\n",
        "    \n",
        "    #Train Model and Predict  \n",
        "    neigh = KNeighborsClassifier(n_neighbors = n).fit(X_train,y_train)\n",
        "    yhat=neigh.predict(X_val)\n",
        "    mean_acc[n-1] = accuracy_score(y_val, yhat)\n",
        "\n",
        "    \n",
        "    std_acc[n-1]=np.std(yhat==y_val)/np.sqrt(yhat.shape[0])\n",
        "\n",
        "mean_acc"
      ],
      "execution_count": null,
      "outputs": [
        {
          "output_type": "execute_result",
          "data": {
            "text/plain": [
              "array([0.33333333, 0.33333333, 0.5       , 0.58333333, 0.66666667,\n",
              "       0.58333333, 0.58333333, 0.66666667, 0.58333333, 0.58333333,\n",
              "       0.58333333, 0.5       , 0.58333333, 0.58333333, 0.58333333])"
            ]
          },
          "metadata": {
            "tags": []
          },
          "execution_count": 184
        }
      ]
    },
    {
      "cell_type": "code",
      "metadata": {
        "colab": {
          "base_uri": "https://localhost:8080/"
        },
        "id": "G9nutGrOIir1",
        "outputId": "b1d0dfd8-3151-45a1-ce41-8c2a0785780c"
      },
      "source": [
        "plt.plot(range(1,Ks),mean_acc,'g')\n",
        "plt.fill_between(range(1,Ks),mean_acc - 1 * std_acc,mean_acc + 1 * std_acc, alpha=0.10)\n",
        "plt.fill_between(range(1,Ks),mean_acc - 3 * std_acc,mean_acc + 3 * std_acc, alpha=0.10,color=\"green\")\n",
        "plt.legend(('Accuracy ', '+/- 1xstd','+/- 3xstd'))\n",
        "plt.ylabel('Accuracy ')\n",
        "plt.xlabel('Number of Neighbors (K)')\n",
        "plt.tight_layout()\n",
        "plt.show()"
      ],
      "execution_count": null,
      "outputs": [
        {
          "output_type": "display_data",
          "data": {
            "image/png": "[encoded data removed]",
            "text/plain": [
              "<Figure size 432x288 with 1 Axes>"
            ]
          },
          "metadata": {
            "tags": [],
            "needs_background": "light"
          }
        }
      ]
    },
    {
      "cell_type": "code",
      "metadata": {
        "colab": {
          "base_uri": "https://localhost:8080/"
        },
        "id": "SLltOogjNJAy",
        "outputId": "f9dc996a-1e75-457e-9857-ba0d42ec84e2"
      },
      "source": [
        "print( \"The best accuracy was with\", mean_acc.max(), \"with k=\", mean_acc.argmax()+1) "
      ],
      "execution_count": null,
      "outputs": [
        {
          "output_type": "stream",
          "text": [
            "The best accuracy was with 0.6666666666666666 with k= 5\n"
          ],
          "name": "stdout"
        }
      ]
    },
    {
      "cell_type": "markdown",
      "metadata": {
        "id": "dcq_d-dT4tkk"
      },
      "source": [
        "# Decision Tree\n"
      ]
    },
    {
      "cell_type": "markdown",
      "metadata": {
        "id": "uVV-FA0w4tkk"
      },
      "source": [
        "The following lines of code fit a <code>DecisionTreeClassifier</code>:\n"
      ]
    },
    {
      "cell_type": "code",
      "metadata": {
        "id": "aZPJp8Je4tkk"
      },
      "source": [
        "from sklearn.tree import DecisionTreeClassifier"
      ],
      "execution_count": null,
      "outputs": []
    },
    {
      "cell_type": "markdown",
      "metadata": {
        "id": "WLXfd2TT4tkk"
      },
      "source": [
        "<b>Question  3</b> Determine the minumum   value for the parameter <code>max_depth</code> that improves results \n"
      ]
    },
    {
      "cell_type": "code",
      "metadata": {
        "id": "YwsjjWD64tkk"
      },
      "source": [
        "list_score = []\n",
        "for i in range(1,16):    \n",
        "    modeltree = DecisionTreeClassifier(criterion='entropy', max_depth=i).fit(X_train, y_train)\n",
        "    y_pred_tree = modeltree.predict(X_val)\n",
        "    list_score.append(metrics.accuracy_score(y_val, y_pred_tree))\n",
        "    #print(metrics.accuracy_score(y_val, y_pred_tree))"
      ],
      "execution_count": null,
      "outputs": []
    },
    {
      "cell_type": "code",
      "metadata": {
        "colab": {
          "base_uri": "https://localhost:8080/"
        },
        "id": "yyM6X46BWEJA",
        "outputId": "73b9ba61-1652-4385-bd92-dd92fa9dc599"
      },
      "source": [
        "plt.plot(range(1,16), list_score)\n",
        "print(\"max_depth:\", list_score.index(max(list_score)) + 1, \"max score:\", max(list_score))\n"
      ],
      "execution_count": null,
      "outputs": [
        {
          "output_type": "stream",
          "text": [
            "max_depth: 1 max score: 0.6666666666666666\n"
          ],
          "name": "stdout"
        },
        {
          "output_type": "display_data",
          "data": {
            "image/png": "[encoded data removed]",
            "text/plain": [
              "<Figure size 432x288 with 1 Axes>"
            ]
          },
          "metadata": {
            "tags": [],
            "needs_background": "light"
          }
        }
      ]
    },
    {
      "cell_type": "markdown",
      "metadata": {
        "id": "r-9AcvzE4tkk"
      },
      "source": [
        "# Support Vector Machine\n"
      ]
    },
    {
      "cell_type": "markdown",
      "metadata": {
        "id": "SPjxm1ke4tkl"
      },
      "source": [
        "<b>Question  4</b>Train the support  vector machine model and determine the accuracy on the validation data for each kernel. Find the kernel (linear, poly, rbf, sigmoid) that provides the best score on the validation data and train a SVM using it.\n"
      ]
    },
    {
      "cell_type": "code",
      "metadata": {
        "id": "S_PtWu3r4tkl"
      },
      "source": [
        "from sklearn import svm"
      ],
      "execution_count": null,
      "outputs": []
    },
    {
      "cell_type": "code",
      "metadata": {
        "id": "B4OiEJmq4tkl",
        "colab": {
          "base_uri": "https://localhost:8080/"
        },
        "outputId": "0d7cc461-1aeb-46bf-a49e-68d6e4a8caa7"
      },
      "source": [
        "from sklearn.metrics import jaccard_score\n",
        "kernel = ['linear', 'poly', 'rbf', 'sigmoid']\n",
        "list_jaccard_score = []\n",
        "list_f1score = []\n",
        "\n",
        "for k in kernel:\n",
        "    clf = svm.SVC(kernel=k)\n",
        "    clf.fit(X_train,y_train)\n",
        "    y_svm = clf.predict(X_val)\n",
        "\n",
        "    list_jaccard_score.append(metrics.jaccard_score(y_val, y_svm, pos_label=2, average='weighted'))\n",
        "    list_f1score.append(f1_score(y_val, y_pred_svm, average='weighted'))"
      ],
      "execution_count": null,
      "outputs": [
        {
          "output_type": "stream",
          "text": [
            "/usr/local/lib/python3.7/dist-packages/sklearn/metrics/_classification.py:1321: UserWarning: Note that pos_label (set to 2) is ignored when average != 'binary' (got 'weighted'). You may use labels=[pos_label] to specify a single positive class.\n",
            "  % (pos_label, average), UserWarning)\n",
            "/usr/local/lib/python3.7/dist-packages/sklearn/metrics/_classification.py:1321: UserWarning: Note that pos_label (set to 2) is ignored when average != 'binary' (got 'weighted'). You may use labels=[pos_label] to specify a single positive class.\n",
            "  % (pos_label, average), UserWarning)\n",
            "/usr/local/lib/python3.7/dist-packages/sklearn/metrics/_classification.py:1321: UserWarning: Note that pos_label (set to 2) is ignored when average != 'binary' (got 'weighted'). You may use labels=[pos_label] to specify a single positive class.\n",
            "  % (pos_label, average), UserWarning)\n",
            "/usr/local/lib/python3.7/dist-packages/sklearn/metrics/_classification.py:1321: UserWarning: Note that pos_label (set to 2) is ignored when average != 'binary' (got 'weighted'). You may use labels=[pos_label] to specify a single positive class.\n",
            "  % (pos_label, average), UserWarning)\n"
          ],
          "name": "stderr"
        }
      ]
    },
    {
      "cell_type": "code",
      "metadata": {
        "colab": {
          "base_uri": "https://localhost:8080/"
        },
        "id": "w_pp4Sr-RRiN",
        "outputId": "4d8bc6ba-1898-44e7-e89b-1266a2ef82fb"
      },
      "source": [
        "plt.plot(kernel, list_jaccard_score)"
      ],
      "execution_count": null,
      "outputs": [
        {
          "output_type": "execute_result",
          "data": {
            "text/plain": [
              "[<matplotlib.lines.Line2D at 0x7fb84c20ca10>]"
            ]
          },
          "metadata": {
            "tags": []
          },
          "execution_count": 192
        },
        {
          "output_type": "display_data",
          "data": {
            "image/png": "[encoded data removed]",
            "text/plain": [
              "<Figure size 432x288 with 1 Axes>"
            ]
          },
          "metadata": {
            "tags": [],
            "needs_background": "light"
          }
        }
      ]
    },
    {
      "cell_type": "code",
      "metadata": {
        "colab": {
          "base_uri": "https://localhost:8080/"
        },
        "id": "dgpEphzhhf_4",
        "outputId": "bf4d3d4c-2c6b-4227-bb72-097465ccc664"
      },
      "source": [
        "plt.plot(kernel, list_f1score)"
      ],
      "execution_count": null,
      "outputs": [
        {
          "output_type": "execute_result",
          "data": {
            "text/plain": [
              "[<matplotlib.lines.Line2D at 0x7fb84c27c4d0>]"
            ]
          },
          "metadata": {
            "tags": []
          },
          "execution_count": 193
        },
        {
          "output_type": "display_data",
          "data": {
            "image/png": "[encoded data removed]",
            "text/plain": [
              "<Figure size 432x288 with 1 Axes>"
            ]
          },
          "metadata": {
            "tags": [],
            "needs_background": "light"
          }
        }
      ]
    },
    {
      "cell_type": "markdown",
      "metadata": {
        "id": "F-okYXOMRcWI"
      },
      "source": [
        "poly is the best"
      ]
    },
    {
      "cell_type": "code",
      "metadata": {
        "colab": {
          "base_uri": "https://localhost:8080/"
        },
        "id": "TRCk_MRLOm_e",
        "outputId": "42a5df86-1228-4b9b-f140-b32846708ad9"
      },
      "source": [
        "# for test\n",
        "from sklearn.metrics import f1_score\n",
        "clf = svm.SVC(kernel='poly')\n",
        "clf.fit(X_train,y_train)\n",
        "y_pred_svm = clf.predict(X_val)\n",
        "\n",
        "f1_score(y_val, y_pred_svm, average='weighted') "
      ],
      "execution_count": null,
      "outputs": [
        {
          "output_type": "execute_result",
          "data": {
            "text/plain": [
              "0.5333333333333333"
            ]
          },
          "metadata": {
            "tags": []
          },
          "execution_count": 194
        }
      ]
    },
    {
      "cell_type": "code",
      "metadata": {
        "colab": {
          "base_uri": "https://localhost:8080/"
        },
        "id": "_JayiT5nP-6y",
        "outputId": "64323ff9-f5b3-4927-d36d-f80c645c48fa"
      },
      "source": [
        "# for test\n",
        "jaccard_score(y_val, y_pred_svm,pos_label=2, average='weighted')"
      ],
      "execution_count": null,
      "outputs": [
        {
          "output_type": "stream",
          "text": [
            "/usr/local/lib/python3.7/dist-packages/sklearn/metrics/_classification.py:1321: UserWarning: Note that pos_label (set to 2) is ignored when average != 'binary' (got 'weighted'). You may use labels=[pos_label] to specify a single positive class.\n",
            "  % (pos_label, average), UserWarning)\n"
          ],
          "name": "stderr"
        },
        {
          "output_type": "execute_result",
          "data": {
            "text/plain": [
              "0.4444444444444444"
            ]
          },
          "metadata": {
            "tags": []
          },
          "execution_count": 195
        }
      ]
    },
    {
      "cell_type": "markdown",
      "metadata": {
        "id": "1D7qQItb4tkl"
      },
      "source": [
        "# Logistic Regression\n",
        "\n",
        "> Indented block\n",
        "\n",
        "\n"
      ]
    },
    {
      "cell_type": "markdown",
      "metadata": {
        "id": "NKDepZpH4tkl"
      },
      "source": [
        "<b>Question 5</b> Train a logistic regression model and determine the accuracy of the validation data (set C=0.01)\n"
      ]
    },
    {
      "cell_type": "code",
      "metadata": {
        "id": "wT68khed4tkm"
      },
      "source": [
        "from sklearn.linear_model import LogisticRegression"
      ],
      "execution_count": null,
      "outputs": []
    },
    {
      "cell_type": "code",
      "metadata": {
        "id": "7J25v6bv4tkm",
        "colab": {
          "base_uri": "https://localhost:8080/"
        },
        "outputId": "fbd7f472-050b-4db6-f8a7-a9d8172c9b32"
      },
      "source": [
        "model_regression = LogisticRegression(C=0.01).fit(X_train, y_train)\n",
        "y_pred_regression = model_regression.predict(X_val)\n",
        "y_pred_regression\n",
        "#metrics.jaccard_score(y_val, y_pred_regression, average = 'weighted')"
      ],
      "execution_count": null,
      "outputs": [
        {
          "output_type": "execute_result",
          "data": {
            "text/plain": [
              "array(['S16', 'S16', 'S16', 'E8', 'S16', 'S16', 'S16', 'S16', 'S16',\n",
              "       'S16', 'S16', 'S16'], dtype=object)"
            ]
          },
          "metadata": {
            "tags": []
          },
          "execution_count": 197
        }
      ]
    },
    {
      "cell_type": "code",
      "metadata": {
        "colab": {
          "base_uri": "https://localhost:8080/"
        },
        "id": "D4wZBri1e9tQ",
        "outputId": "1cb219e9-237b-417c-dd81-aac90ff36493"
      },
      "source": [
        "metrics.jaccard_score(y_val, y_pred_regression, average='weighted')"
      ],
      "execution_count": null,
      "outputs": [
        {
          "output_type": "execute_result",
          "data": {
            "text/plain": [
              "0.3888888888888889"
            ]
          },
          "metadata": {
            "tags": []
          },
          "execution_count": 198
        }
      ]
    },
    {
      "cell_type": "markdown",
      "metadata": {
        "id": "bmyMjwFa4tkm"
      },
      "source": [
        "# Model Evaluation using Test set\n"
      ]
    },
    {
      "cell_type": "code",
      "metadata": {
        "id": "4Pg1hVyl4tkm"
      },
      "source": [
        "from sklearn.metrics import f1_score\n",
        "# for f1_score please set the average parameter to 'micro'\n",
        "from sklearn.metrics import log_loss"
      ],
      "execution_count": null,
      "outputs": []
    },
    {
      "cell_type": "code",
      "metadata": {
        "id": "QGnqoTUq4tkm"
      },
      "source": [
        "def jaccard_index(predictions, true):\n",
        "    if (len(predictions) == len(true)):\n",
        "        intersect = 0;\n",
        "        for x,y in zip(predictions, true):\n",
        "            if (x == y):\n",
        "                intersect += 1\n",
        "        return intersect / (len(predictions) + len(true) - intersect)\n",
        "    else:\n",
        "        return -1"
      ],
      "execution_count": null,
      "outputs": []
    },
    {
      "cell_type": "markdown",
      "metadata": {
        "id": "StvsOQy24tkn"
      },
      "source": [
        "<b>Question  5</b> Calculate the  F1 score and Jaccard score for each model from above. Use the Hyperparameter that performed best on the validation data. **For f1_score please set the average parameter to 'micro'.**\n"
      ]
    },
    {
      "cell_type": "code",
      "metadata": {
        "id": "PVg8SHqOguyR"
      },
      "source": [
        "# Create the best model\n",
        "from sklearn import svm\n",
        "# knn model\n",
        "knn = KNeighborsClassifier(n_neighbors=5).fit(X_train, y_train)\n",
        "y_knn = knn.predict(X_val)\n",
        "\n",
        "# Decition tree\n",
        "tree = DecisionTreeClassifier(criterion='entropy', max_depth=1).fit(X_train, y_train)\n",
        "y_tree = tree.predict(X_val)\n",
        "\n",
        "# SVM model\n",
        "svmza = svm.SVC(kernel = 'poly').fit(X_train,y_train)\n",
        "y_svm = svmza.predict(X_val)\n",
        "\n",
        "# logistic\n",
        "lg = LogisticRegression(C = 0.01).fit(X_train, y_train)\n",
        "y_lg = lg.predict(X_val)"
      ],
      "execution_count": null,
      "outputs": []
    },
    {
      "cell_type": "code",
      "metadata": {
        "colab": {
          "base_uri": "https://localhost:8080/",
          "height": 173
        },
        "id": "uBc7qpsdlAXk",
        "outputId": "591a660f-00d2-47f3-86f2-942a42ce8282"
      },
      "source": [
        "# find f1_score in the best model\n",
        "f_knn = f1_score(y_val, y_knn, average='micro')\n",
        "\n",
        "f_tree = f1_score(y_val, y_tree, average='micro')\n",
        "\n",
        "f_svm = f1_score(y_val, y_svm, average ='micro')\n",
        "\n",
        "f_lg = f1_score(y_val, y_lg,average='micro')\n",
        "\n",
        "arr = np.array([f_knn, f_tree, f_svm, f_lg])\n",
        "pd.DataFrame(arr, index=['KNN','Decition Tree', 'SVM', 'Logisticregression'], columns=None)"
      ],
      "execution_count": null,
      "outputs": [
        {
          "output_type": "execute_result",
          "data": {
            "text/html": [
              "<div>\n",
              "<style scoped>\n",
              "    .dataframe tbody tr th:only-of-type {\n",
              "        vertical-align: middle;\n",
              "    }\n",
              "\n",
              "    .dataframe tbody tr th {\n",
              "        vertical-align: top;\n",
              "    }\n",
              "\n",
              "    .dataframe thead th {\n",
              "        text-align: right;\n",
              "    }\n",
              "</style>\n",
              "<table border=\"1\" class=\"dataframe\">\n",
              "  <thead>\n",
              "    <tr style=\"text-align: right;\">\n",
              "      <th></th>\n",
              "      <th>0</th>\n",
              "    </tr>\n",
              "  </thead>\n",
              "  <tbody>\n",
              "    <tr>\n",
              "      <th>KNN</th>\n",
              "      <td>0.666667</td>\n",
              "    </tr>\n",
              "    <tr>\n",
              "      <th>Decition Tree</th>\n",
              "      <td>0.666667</td>\n",
              "    </tr>\n",
              "    <tr>\n",
              "      <th>SVM</th>\n",
              "      <td>0.666667</td>\n",
              "    </tr>\n",
              "    <tr>\n",
              "      <th>Logisticregression</th>\n",
              "      <td>0.583333</td>\n",
              "    </tr>\n",
              "  </tbody>\n",
              "</table>\n",
              "</div>"
            ],
            "text/plain": [
              "                           0\n",
              "KNN                 0.666667\n",
              "Decition Tree       0.666667\n",
              "SVM                 0.666667\n",
              "Logisticregression  0.583333"
            ]
          },
          "metadata": {
            "tags": []
          },
          "execution_count": 237
        }
      ]
    },
    {
      "cell_type": "markdown",
      "metadata": {
        "button": false,
        "new_sheet": false,
        "run_control": {
          "read_only": false
        },
        "id": "hZ90D24h4tkn"
      },
      "source": [
        "### Load Test set for evaluation\n"
      ]
    },
    {
      "cell_type": "code",
      "metadata": {
        "button": false,
        "new_sheet": false,
        "run_control": {
          "read_only": false
        },
        "id": "h33pAQk34tkn",
        "colab": {
          "base_uri": "https://localhost:8080/",
          "height": 204
        },
        "outputId": "e48881d8-8954-4ece-f8e1-fac4f93772c3"
      },
      "source": [
        "test_df = pd.read_csv('https://s3-api.us-geo.objectstorage.softlayer.net/cf-courses-data/CognitiveClass/ML0120ENv3/Dataset/ML0101EN_EDX_skill_up/basketball_train.csv',error_bad_lines=False)\n",
        "test_df.head()"
      ],
      "execution_count": null,
      "outputs": [
        {
          "output_type": "execute_result",
          "data": {
            "text/html": [
              "<div>\n",
              "<style scoped>\n",
              "    .dataframe tbody tr th:only-of-type {\n",
              "        vertical-align: middle;\n",
              "    }\n",
              "\n",
              "    .dataframe tbody tr th {\n",
              "        vertical-align: top;\n",
              "    }\n",
              "\n",
              "    .dataframe thead th {\n",
              "        text-align: right;\n",
              "    }\n",
              "</style>\n",
              "<table border=\"1\" class=\"dataframe\">\n",
              "  <thead>\n",
              "    <tr style=\"text-align: right;\">\n",
              "      <th></th>\n",
              "      <th>TEAM</th>\n",
              "      <th>CONF</th>\n",
              "      <th>G</th>\n",
              "      <th>W</th>\n",
              "      <th>ADJOE</th>\n",
              "      <th>ADJDE</th>\n",
              "      <th>BARTHAG</th>\n",
              "      <th>EFG_O</th>\n",
              "      <th>EFG_D</th>\n",
              "      <th>TOR</th>\n",
              "      <th>TORD</th>\n",
              "      <th>ORB</th>\n",
              "      <th>DRB</th>\n",
              "      <th>FTR</th>\n",
              "      <th>FTRD</th>\n",
              "      <th>2P_O</th>\n",
              "      <th>2P_D</th>\n",
              "      <th>3P_O</th>\n",
              "      <th>3P_D</th>\n",
              "      <th>ADJ_T</th>\n",
              "      <th>WAB</th>\n",
              "      <th>POSTSEASON</th>\n",
              "      <th>SEED</th>\n",
              "      <th>YEAR</th>\n",
              "    </tr>\n",
              "  </thead>\n",
              "  <tbody>\n",
              "    <tr>\n",
              "      <th>0</th>\n",
              "      <td>North Carolina</td>\n",
              "      <td>ACC</td>\n",
              "      <td>40</td>\n",
              "      <td>33</td>\n",
              "      <td>123.3</td>\n",
              "      <td>94.9</td>\n",
              "      <td>0.9531</td>\n",
              "      <td>52.6</td>\n",
              "      <td>48.1</td>\n",
              "      <td>15.4</td>\n",
              "      <td>18.2</td>\n",
              "      <td>40.7</td>\n",
              "      <td>30.0</td>\n",
              "      <td>32.3</td>\n",
              "      <td>30.4</td>\n",
              "      <td>53.9</td>\n",
              "      <td>44.6</td>\n",
              "      <td>32.7</td>\n",
              "      <td>36.2</td>\n",
              "      <td>71.7</td>\n",
              "      <td>8.6</td>\n",
              "      <td>2ND</td>\n",
              "      <td>1.0</td>\n",
              "      <td>2016</td>\n",
              "    </tr>\n",
              "    <tr>\n",
              "      <th>1</th>\n",
              "      <td>Villanova</td>\n",
              "      <td>BE</td>\n",
              "      <td>40</td>\n",
              "      <td>35</td>\n",
              "      <td>123.1</td>\n",
              "      <td>90.9</td>\n",
              "      <td>0.9703</td>\n",
              "      <td>56.1</td>\n",
              "      <td>46.7</td>\n",
              "      <td>16.3</td>\n",
              "      <td>20.6</td>\n",
              "      <td>28.2</td>\n",
              "      <td>29.4</td>\n",
              "      <td>34.1</td>\n",
              "      <td>30.0</td>\n",
              "      <td>57.4</td>\n",
              "      <td>44.1</td>\n",
              "      <td>36.2</td>\n",
              "      <td>33.9</td>\n",
              "      <td>66.7</td>\n",
              "      <td>8.9</td>\n",
              "      <td>Champions</td>\n",
              "      <td>2.0</td>\n",
              "      <td>2016</td>\n",
              "    </tr>\n",
              "    <tr>\n",
              "      <th>2</th>\n",
              "      <td>Notre Dame</td>\n",
              "      <td>ACC</td>\n",
              "      <td>36</td>\n",
              "      <td>24</td>\n",
              "      <td>118.3</td>\n",
              "      <td>103.3</td>\n",
              "      <td>0.8269</td>\n",
              "      <td>54.0</td>\n",
              "      <td>49.5</td>\n",
              "      <td>15.3</td>\n",
              "      <td>14.8</td>\n",
              "      <td>32.7</td>\n",
              "      <td>32.1</td>\n",
              "      <td>32.9</td>\n",
              "      <td>26.0</td>\n",
              "      <td>52.9</td>\n",
              "      <td>46.5</td>\n",
              "      <td>37.4</td>\n",
              "      <td>36.9</td>\n",
              "      <td>65.5</td>\n",
              "      <td>2.3</td>\n",
              "      <td>E8</td>\n",
              "      <td>6.0</td>\n",
              "      <td>2016</td>\n",
              "    </tr>\n",
              "    <tr>\n",
              "      <th>3</th>\n",
              "      <td>Virginia</td>\n",
              "      <td>ACC</td>\n",
              "      <td>37</td>\n",
              "      <td>29</td>\n",
              "      <td>119.9</td>\n",
              "      <td>91.0</td>\n",
              "      <td>0.9600</td>\n",
              "      <td>54.8</td>\n",
              "      <td>48.4</td>\n",
              "      <td>15.1</td>\n",
              "      <td>18.8</td>\n",
              "      <td>29.9</td>\n",
              "      <td>25.2</td>\n",
              "      <td>32.1</td>\n",
              "      <td>33.4</td>\n",
              "      <td>52.6</td>\n",
              "      <td>46.3</td>\n",
              "      <td>40.3</td>\n",
              "      <td>34.7</td>\n",
              "      <td>61.9</td>\n",
              "      <td>8.6</td>\n",
              "      <td>E8</td>\n",
              "      <td>1.0</td>\n",
              "      <td>2016</td>\n",
              "    </tr>\n",
              "    <tr>\n",
              "      <th>4</th>\n",
              "      <td>Kansas</td>\n",
              "      <td>B12</td>\n",
              "      <td>37</td>\n",
              "      <td>32</td>\n",
              "      <td>120.9</td>\n",
              "      <td>90.4</td>\n",
              "      <td>0.9662</td>\n",
              "      <td>55.7</td>\n",
              "      <td>45.1</td>\n",
              "      <td>17.8</td>\n",
              "      <td>18.5</td>\n",
              "      <td>32.2</td>\n",
              "      <td>27.9</td>\n",
              "      <td>38.6</td>\n",
              "      <td>37.3</td>\n",
              "      <td>52.7</td>\n",
              "      <td>43.4</td>\n",
              "      <td>41.3</td>\n",
              "      <td>32.5</td>\n",
              "      <td>70.1</td>\n",
              "      <td>11.6</td>\n",
              "      <td>E8</td>\n",
              "      <td>1.0</td>\n",
              "      <td>2016</td>\n",
              "    </tr>\n",
              "  </tbody>\n",
              "</table>\n",
              "</div>"
            ],
            "text/plain": [
              "             TEAM CONF   G   W  ADJOE  ...  ADJ_T   WAB  POSTSEASON  SEED  YEAR\n",
              "0  North Carolina  ACC  40  33  123.3  ...   71.7   8.6         2ND   1.0  2016\n",
              "1       Villanova   BE  40  35  123.1  ...   66.7   8.9   Champions   2.0  2016\n",
              "2      Notre Dame  ACC  36  24  118.3  ...   65.5   2.3          E8   6.0  2016\n",
              "3        Virginia  ACC  37  29  119.9  ...   61.9   8.6          E8   1.0  2016\n",
              "4          Kansas  B12  37  32  120.9  ...   70.1  11.6          E8   1.0  2016\n",
              "\n",
              "[5 rows x 24 columns]"
            ]
          },
          "metadata": {
            "tags": []
          },
          "execution_count": 203
        }
      ]
    },
    {
      "cell_type": "code",
      "metadata": {
        "id": "4DbYkeQO4tkn",
        "colab": {
          "base_uri": "https://localhost:8080/"
        },
        "outputId": "5515392f-5219-4583-d6d1-056c6bdb1915"
      },
      "source": [
        "test_df['windex'] = np.where(test_df.WAB > 7, 'True', 'False')\n",
        "test_df1 = test_df[test_df['POSTSEASON'].str.contains('F4|S16|E8', na=False)]\n",
        "test_Feature = test_df1[['G', 'W', 'ADJOE', 'ADJDE', 'BARTHAG', 'EFG_O', 'EFG_D',\n",
        "       'TOR', 'TORD', 'ORB', 'DRB', 'FTR', 'FTRD', '2P_O', '2P_D', '3P_O',\n",
        "       '3P_D', 'ADJ_T', 'WAB', 'SEED', 'windex']]\n",
        "test_Feature['windex'].replace(to_replace=['False','True'], value=[0,1],inplace=True)\n",
        "test_X=test_Feature\n",
        "test_X= preprocessing.StandardScaler().fit(test_X).transform(test_X)\n",
        "test_X[0:5]"
      ],
      "execution_count": null,
      "outputs": [
        {
          "output_type": "stream",
          "text": [
            "/usr/local/lib/python3.7/dist-packages/pandas/core/series.py:4582: SettingWithCopyWarning: \n",
            "A value is trying to be set on a copy of a slice from a DataFrame\n",
            "\n",
            "See the caveats in the documentation: https://pandas.pydata.org/pandas-docs/stable/user_guide/indexing.html#returning-a-view-versus-a-copy\n",
            "  method=method,\n"
          ],
          "name": "stderr"
        },
        {
          "output_type": "execute_result",
          "data": {
            "text/plain": [
              "array([[-4.08074446e-01, -1.10135297e+00,  3.37365934e-01,\n",
              "         2.66479976e+00, -2.46831661e+00,  2.13703245e-01,\n",
              "         9.44090550e-01, -1.19216365e+00, -1.64348924e+00,\n",
              "         1.45405982e-02,  1.29523097e+00, -6.23533182e-01,\n",
              "        -9.31788560e-01,  1.42784371e-01,  1.68876201e-01,\n",
              "         2.84500844e-01,  1.62625961e+00, -8.36649260e-01,\n",
              "        -9.98500539e-01,  4.84319174e-01, -6.77003200e-01],\n",
              "       [ 3.63958290e-01,  3.26326807e-01,  7.03145068e-01,\n",
              "        -7.13778644e-01,  1.07370841e+00,  4.82633172e-01,\n",
              "         4.77498943e-01, -1.32975879e+00, -6.86193316e-02,\n",
              "        -7.35448152e-01, -1.35447914e+00, -8.06829025e-01,\n",
              "         3.41737757e-01,  4.96641291e-02,  9.40576311e-02,\n",
              "         1.37214061e+00,  6.93854620e-01, -2.00860931e+00,\n",
              "         9.80549967e-01, -1.19401460e+00,  1.47709789e+00],\n",
              "       [ 3.63958290e-01,  1.18293467e+00,  9.31757027e-01,\n",
              "        -8.78587347e-01,  1.23870131e+00,  7.85179340e-01,\n",
              "        -9.22275877e-01,  5.27775662e-01, -1.86734575e-01,\n",
              "        -1.19385964e-01, -3.17636057e-01,  6.82449703e-01,\n",
              "         1.01292055e+00,  8.07042098e-02, -9.90811637e-01,\n",
              "         1.74718880e+00, -2.38550367e-01,  6.60855252e-01,\n",
              "         1.92295497e+00, -1.19401460e+00,  1.47709789e+00],\n",
              "       [ 3.63958290e-01,  6.11862762e-01,  3.60227129e-01,\n",
              "         7.14563447e-01, -8.92254236e-02, -3.57772849e-01,\n",
              "         6.89586037e-01, -6.41783067e-01,  4.82585136e-01,\n",
              "         3.89534973e-01,  6.80805434e-01,  1.07195337e+00,\n",
              "         1.00800346e-01,  4.96641291e-02,  1.92390609e-02,\n",
              "        -8.40643737e-01,  1.32958529e+00,  3.02756347e-01,\n",
              "         3.83693465e-01, -1.19401460e+00, -6.77003200e-01],\n",
              "       [ 3.63958290e-01, -1.38688893e+00, -1.12575060e+00,\n",
              "         3.92401673e-04, -9.03545224e-01, -1.13094639e+00,\n",
              "         1.09073363e-02,  7.34168378e-01,  5.61328631e-01,\n",
              "         2.28823098e-01,  2.52408203e+00, -5.07336709e-02,\n",
              "        -5.87592258e-01, -1.62650023e+00,  7.67424763e-01,\n",
              "        -2.40566627e-01, -1.00142717e+00, -8.36649260e-01,\n",
              "        -1.81525154e+00,  1.82698619e+00, -6.77003200e-01]])"
            ]
          },
          "metadata": {
            "tags": []
          },
          "execution_count": 204
        }
      ]
    },
    {
      "cell_type": "code",
      "metadata": {
        "id": "0pQO5Thl4tkn",
        "colab": {
          "base_uri": "https://localhost:8080/"
        },
        "outputId": "37763431-09ec-45e8-ec1a-0fd3f6f755da"
      },
      "source": [
        "test_y = test_df1['POSTSEASON'].values\n",
        "test_y[0:5]"
      ],
      "execution_count": null,
      "outputs": [
        {
          "output_type": "execute_result",
          "data": {
            "text/plain": [
              "array(['E8', 'E8', 'E8', 'E8', 'F4'], dtype=object)"
            ]
          },
          "metadata": {
            "tags": []
          },
          "execution_count": 205
        }
      ]
    },
    {
      "cell_type": "markdown",
      "metadata": {
        "id": "gHh2tJ5K4tkn"
      },
      "source": [
        "KNN\n"
      ]
    },
    {
      "cell_type": "code",
      "metadata": {
        "id": "ZOHonI0J4tko"
      },
      "source": [
        "knn_pred = knn.predict(test_X)\n",
        "knn_js = jaccard_score(test_y,knn_pred, average='micro')\n",
        "knn_f1 = f1_score(test_y, knn_pred, average='micro')\n",
        "knn_ac = accuracy_score(test_y, knn_pred)"
      ],
      "execution_count": null,
      "outputs": []
    },
    {
      "cell_type": "markdown",
      "metadata": {
        "id": "rIF2QTDQ4tko"
      },
      "source": [
        "Decision Tree\n"
      ]
    },
    {
      "cell_type": "code",
      "metadata": {
        "id": "jU9JHd6K4tko"
      },
      "source": [
        "tree_pred = tree.predict(test_X)\n",
        "tree_js = jaccard_score(test_y, tree_pred, average='micro')\n",
        "tree_f1 = f1_score(test_y, tree_pred, average='micro')\n",
        "tree_ac = accuracy_score(test_y, tree_pred)"
      ],
      "execution_count": null,
      "outputs": []
    },
    {
      "cell_type": "markdown",
      "metadata": {
        "id": "UrZIWHsv4tko"
      },
      "source": [
        "SVM\n"
      ]
    },
    {
      "cell_type": "code",
      "metadata": {
        "id": "ScoRinyV4tko"
      },
      "source": [
        "svm_pred = svmza.predict(test_X)\n",
        "svm_js = jaccard_score(test_y, svm_pred, average='micro')\n",
        "svm_f1 = f1_score(test_y, svm_pred, average='micro')\n",
        "svm_ac = accuracy_score(test_y, svm_pred)"
      ],
      "execution_count": null,
      "outputs": []
    },
    {
      "cell_type": "markdown",
      "metadata": {
        "id": "JBUwixLR4tko"
      },
      "source": [
        "Logistic Regression\n"
      ]
    },
    {
      "cell_type": "code",
      "metadata": {
        "id": "XQ9TUk-w4tko"
      },
      "source": [
        "lg_pred = lg.predict(test_X)\n",
        "lg_pred_prob = lg.predict_proba(test_X)\n",
        "lg_log = log_loss(test_y, lg_pred_prob)\n",
        "lg_js = jaccard_score(test_y, lg_pred, average='micro')\n",
        "\n",
        "lg_f1 = f1_score(test_y, tree_pred, average='micro')\n",
        "lg_ac = accuracy_score(test_y, tree_pred)"
      ],
      "execution_count": null,
      "outputs": []
    },
    {
      "cell_type": "markdown",
      "metadata": {
        "id": "7jok5bf44OZI"
      },
      "source": [
        "evaluate"
      ]
    },
    {
      "cell_type": "code",
      "metadata": {
        "colab": {
          "base_uri": "https://localhost:8080/",
          "height": 173
        },
        "id": "pM1FFgSd3LUJ",
        "outputId": "288174e2-148e-4ad3-ed31-d82ac8881ff2"
      },
      "source": [
        "indexs = ['KNN', 'Decision Tree', 'SVM', 'LogisticRegression' ]\n",
        "cols = [' Accuracy', 'Jaccard', 'F-1 score', 'LogLess']\n",
        "arr_acc  = np.array([[knn_ac, knn_js, knn_f1, \"none\"],\n",
        "                        [tree_ac, tree_js, tree_f1, \"none\"],\n",
        "                        [svm_ac, svm_js, svm_f1, \"none\"],\n",
        "                        [lg_ac, lg_js, lg_f1, lg_log]])\n",
        "pd.DataFrame(arr_acc, index=indexs, columns=cols)"
      ],
      "execution_count": null,
      "outputs": [
        {
          "output_type": "execute_result",
          "data": {
            "text/html": [
              "<div>\n",
              "<style scoped>\n",
              "    .dataframe tbody tr th:only-of-type {\n",
              "        vertical-align: middle;\n",
              "    }\n",
              "\n",
              "    .dataframe tbody tr th {\n",
              "        vertical-align: top;\n",
              "    }\n",
              "\n",
              "    .dataframe thead th {\n",
              "        text-align: right;\n",
              "    }\n",
              "</style>\n",
              "<table border=\"1\" class=\"dataframe\">\n",
              "  <thead>\n",
              "    <tr style=\"text-align: right;\">\n",
              "      <th></th>\n",
              "      <th>Accuracy</th>\n",
              "      <th>Jaccard</th>\n",
              "      <th>F-1 score</th>\n",
              "      <th>LogLess</th>\n",
              "    </tr>\n",
              "  </thead>\n",
              "  <tbody>\n",
              "    <tr>\n",
              "      <th>KNN</th>\n",
              "      <td>0.6285714285714286</td>\n",
              "      <td>0.4583333333333333</td>\n",
              "      <td>0.6285714285714286</td>\n",
              "      <td>none</td>\n",
              "    </tr>\n",
              "    <tr>\n",
              "      <th>Decision Tree</th>\n",
              "      <td>0.6428571428571429</td>\n",
              "      <td>0.47368421052631576</td>\n",
              "      <td>0.6428571428571429</td>\n",
              "      <td>none</td>\n",
              "    </tr>\n",
              "    <tr>\n",
              "      <th>SVM</th>\n",
              "      <td>0.6857142857142857</td>\n",
              "      <td>0.5217391304347826</td>\n",
              "      <td>0.6857142857142857</td>\n",
              "      <td>none</td>\n",
              "    </tr>\n",
              "    <tr>\n",
              "      <th>LogisticRegression</th>\n",
              "      <td>0.6428571428571429</td>\n",
              "      <td>0.4</td>\n",
              "      <td>0.6428571428571429</td>\n",
              "      <td>0.8782708671258066</td>\n",
              "    </tr>\n",
              "  </tbody>\n",
              "</table>\n",
              "</div>"
            ],
            "text/plain": [
              "                              Accuracy  ...             LogLess\n",
              "KNN                 0.6285714285714286  ...                none\n",
              "Decision Tree       0.6428571428571429  ...                none\n",
              "SVM                 0.6857142857142857  ...                none\n",
              "LogisticRegression  0.6428571428571429  ...  0.8782708671258066\n",
              "\n",
              "[4 rows x 4 columns]"
            ]
          },
          "metadata": {
            "tags": []
          },
          "execution_count": 236
        }
      ]
    },
    {
      "cell_type": "markdown",
      "metadata": {
        "id": "XMYqVA_84tkp"
      },
      "source": [
        "# Report\n",
        "\n",
        "You should be able to report the accuracy of the built model using different evaluation metrics:\n"
      ]
    },
    {
      "cell_type": "markdown",
      "metadata": {
        "id": "7sDB8YtQ4tkp"
      },
      "source": [
        "| Algorithm          | Accuracy | Jaccard | F1-score | LogLoss |\n",
        "| ------------------ | -------- | ------- | -------- | ------- |\n",
        "| KNN                | ?        | ?       | ?        | NA      |\n",
        "| Decision Tree      | ?        | ?       | ?        | NA      |\n",
        "| SVM                | ?        | ?       | ?        | NA      |\n",
        "| LogisticRegression | ?        | ?       | ?        | ?       |\n"
      ]
    },
    {
      "cell_type": "markdown",
      "metadata": {
        "id": "OxaBYB5z4tkp"
      },
      "source": [
        "Something to keep in mind when creating models to predict the results of basketball tournaments or sports in general is that is quite hard due to so many factors influencing the game. Even in sports betting an accuracy of 55% and over is considered good as it indicates profits.\n"
      ]
    },
    {
      "cell_type": "markdown",
      "metadata": {
        "button": false,
        "new_sheet": false,
        "run_control": {
          "read_only": false
        },
        "id": "IvMVYJEz4tkp"
      },
      "source": [
        "<h2>Want to learn more?</h2>\n",
        "\n",
        "IBM SPSS Modeler is a comprehensive analytics platform that has many machine learning algorithms. It has been designed to bring predictive intelligence to decisions made by individuals, by groups, by systems – by your enterprise as a whole. A free trial is available through this course, available here: <a href=\"https://www.ibm.com/analytics/spss-statistics-software\">SPSS Modeler</a>\n",
        "\n",
        "Also, you can use Watson Studio to run these notebooks faster with bigger datasets. Watson Studio is IBM's leading cloud solution for data scientists, built by data scientists. With Jupyter notebooks, RStudio, Apache Spark and popular libraries pre-packaged in the cloud, Watson Studio enables data scientists to collaborate on their projects without having to install anything. Join the fast-growing community of Watson Studio users today with a free account at <a href=\"https://www.ibm.com/cloud/watson-studio\">Watson Studio</a>\n"
      ]
    },
    {
      "cell_type": "markdown",
      "metadata": {
        "id": "xVdAZq0i4tkp"
      },
      "source": [
        "### Thank you for completing this lab!\n",
        "\n",
        "## Author\n",
        "\n",
        "Saeed Aghabozorgi\n",
        "\n",
        "### Other Contributors\n",
        "\n",
        "<a href=\"https://www.linkedin.com/in/joseph-s-50398b136/\" target=\"_blank\">Joseph Santarcangelo</a>\n",
        "\n",
        "## Change Log\n",
        "\n",
        "| Date (YYYY-MM-DD) | Version | Changed By    | Change Description                 |\n",
        "| ----------------- | ------- | ------------- | ---------------------------------- |\n",
        "| 2021-04-03        | 2.1     | Malika Singla | Updated the Report accuracy        |\n",
        "| 2020-08-27        | 2.0     | Lavanya       | Moved lab to course repo in GitLab |\n",
        "|                   |         |               |                                    |\n",
        "|                   |         |               |                                    |\n",
        "\n",
        "## <h3 align=\"center\"> © IBM Corporation 2020. All rights reserved. <h3/>\n"
      ]
    }
  ]
}