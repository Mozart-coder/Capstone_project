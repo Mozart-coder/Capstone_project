{
  "nbformat": 4,
  "nbformat_minor": 0,
  "metadata": {
    "colab": {
      "name": "Untitled0.ipynb",
      "provenance": []
    },
    "kernelspec": {
      "name": "python3",
      "display_name": "Python 3"
    },
    "language_info": {
      "name": "python"
    }
  },
  "cells": [
    {
      "cell_type": "markdown",
      "metadata": {
        "id": "INHHfxxnzjrw"
      },
      "source": [
        "##Hello\n",
        "**This is a capstone project.**"
      ]
    },
    {
      "cell_type": "code",
      "metadata": {
        "id": "MRLlZrPqzmIn"
      },
      "source": [
        "import numpy as np\n",
        "import pandas as pd"
      ],
      "execution_count": null,
      "outputs": []
    },
    {
      "cell_type": "code",
      "metadata": {
        "colab": {
          "base_uri": "https://localhost:8080/"
        },
        "id": "RfYDRHEiACEx",
        "outputId": "1014bd46-1404-486b-bd7b-925f3468c4e7"
      },
      "source": [
        "print(\"Hello Capstone Project Course!!\")"
      ],
      "execution_count": 1,
      "outputs": [
        {
          "output_type": "stream",
          "text": [
            "Hello Capstone Project Course!!\n"
          ],
          "name": "stdout"
        }
      ]
    }
  ]
}